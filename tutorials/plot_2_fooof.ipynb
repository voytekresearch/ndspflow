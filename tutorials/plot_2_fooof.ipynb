{
 "cells": [
  {
   "cell_type": "markdown",
   "metadata": {},
   "source": [
    "# 2. FOOOF\n",
    "\n",
    "In this tutorial, `ndspflow` will be used to run the fooof analysis node with simulated data. \n"
   ]
  },
  {
   "cell_type": "code",
   "execution_count": 1,
   "metadata": {
    "execution": {
     "iopub.execute_input": "2020-12-30T20:29:12.593853Z",
     "iopub.status.busy": "2020-12-30T20:29:12.593108Z",
     "iopub.status.idle": "2020-12-30T20:29:12.832310Z",
     "shell.execute_reply": "2020-12-30T20:29:12.832539Z"
    }
   },
   "outputs": [],
   "source": [
    "import os\n",
    "import webbrowser\n",
    "import numpy as np\n",
    "\n",
    "from fooof import FOOOF\n",
    "from fooof.sim.gen import gen_group_power_spectra\n",
    "from fooof.sim.params import param_jitter"
   ]
  },
  {
   "cell_type": "markdown",
   "metadata": {},
   "source": [
    "### Simulate Data\n",
    "\n",
    "First, a group of power spectra will be simulated. The 2D array of power spectra and a 1D array of frequencies will be saved as .npy files within the current working directory inside of a directory named \"data\". "
   ]
  },
  {
   "cell_type": "code",
   "execution_count": 2,
   "metadata": {
    "execution": {
     "iopub.execute_input": "2020-12-30T20:29:12.835668Z",
     "iopub.status.busy": "2020-12-30T20:29:12.835172Z",
     "iopub.status.idle": "2020-12-30T20:29:12.836387Z",
     "shell.execute_reply": "2020-12-30T20:29:12.836766Z"
    }
   },
   "outputs": [],
   "source": [
    "# Simulate data\n",
    "n_spectra = 5\n",
    "f_range = [1, 50]\n",
    "ap_params = [0, 1]\n",
    "pe_params = param_jitter([20, .4, 1], [1, 0, 0])\n",
    "\n",
    "freqs, powers = gen_group_power_spectra(n_spectra, f_range, ap_params, pe_params)"
   ]
  },
  {
   "cell_type": "code",
   "execution_count": 3,
   "metadata": {
    "execution": {
     "iopub.execute_input": "2020-12-30T20:29:12.839400Z",
     "iopub.status.busy": "2020-12-30T20:29:12.838929Z",
     "iopub.status.idle": "2020-12-30T20:29:12.840678Z",
     "shell.execute_reply": "2020-12-30T20:29:12.841079Z"
    }
   },
   "outputs": [],
   "source": [
    "# Save data\n",
    "for dirname in ['data', 'results']:\n",
    "    if not os.path.isdir(dirname):\n",
    "        os.mkdir(dirname)\n",
    "\n",
    "np.save(\"data/freqs.npy\", freqs)\n",
    "np.save(\"data/powers.npy\", powers)"
   ]
  },
  {
   "cell_type": "markdown",
   "metadata": {},
   "source": [
    "### Running FOOOF\n",
    "\n",
    "Next, the fooof node will be ran using the simulated data. The parameters specified include:\n",
    "\n",
    "- `freqs` : name of the frequencies .npy file\n",
    "- `power_spectrum` : name of the spectra .npy file\n",
    "- `f_range_fooof` : the range of frequencies to fit\n",
    "- `max_n_peaks` : the maximum number of peaks to fit\n",
    "- `min_peak_height` : the minimum absolute height of peaks\n",
    "- `peak_threshold` : the minimum relative height of peaks\n",
    "- `aperiodic_mode` : the aperiodic model to fit\n",
    "- `n_jobs` : the number of jobs to run in parallel (-1 defaults to max).\n",
    "- `run_nodes` : which node(s) to run"
   ]
  },
  {
   "cell_type": "code",
   "execution_count": 4,
   "metadata": {
    "execution": {
     "iopub.execute_input": "2020-12-30T20:29:12.843423Z",
     "iopub.status.busy": "2020-12-30T20:29:12.843050Z",
     "iopub.status.idle": "2020-12-30T20:29:14.642984Z",
     "shell.execute_reply": "2020-12-30T20:29:14.642561Z"
    }
   },
   "outputs": [
    {
     "name": "stdout",
     "output_type": "stream",
     "text": [
      "201230-12:29:14,362 nipype.workflow INFO:\n",
      "\t Workflow wf_ndspflow settings: ['check', 'execution', 'logging', 'monitoring']\n",
      "201230-12:29:14,364 nipype.workflow INFO:\n",
      "\t Running serially.\n",
      "201230-12:29:14,364 nipype.workflow INFO:\n",
      "\t [Node] Setting-up \"wf_ndspflow.fooof_node\" in \"/tmp/tmpon7j7a6y/wf_ndspflow/fooof_node\".\n",
      "201230-12:29:14,365 nipype.workflow INFO:\n",
      "\t [Node] Running \"fooof_node\" (\"ndspflow.core.interfaces.FOOOFNode\")\n",
      "201230-12:29:14,409 nipype.workflow INFO:\n",
      "\t [Node] Finished \"wf_ndspflow.fooof_node\".\n",
      "201230-12:29:14,410 nipype.workflow INFO:\n",
      "\t [Node] Setting-up \"wf_ndspflow.report_node\" in \"/tmp/tmpmwlmc1q_/wf_ndspflow/report_node\".\n",
      "201230-12:29:14,413 nipype.workflow INFO:\n",
      "\t [Node] Running \"report_node\" (\"ndspflow.core.interfaces.ReportNode\")\n",
      "201230-12:29:14,482 nipype.workflow INFO:\n",
      "\t [Node] Finished \"wf_ndspflow.report_node\".\n"
     ]
    }
   ],
   "source": [
    "%%bash\n",
    "\n",
    "# Run the fooof node\n",
    "ndspflow \\\n",
    "-freqs freqs.npy \\\n",
    "-power_spectrum powers.npy \\\n",
    "-f_range_fooof 1 50 \\\n",
    "-max_n_peaks 1 \\\n",
    "-min_peak_height .3 \\\n",
    "-peak_threshold 2 \\\n",
    "-peak_width_limits 1 5 \\\n",
    "-aperiodic_mode fixed \\\n",
    "-n_jobs -1 \\\n",
    "-run_nodes fooof \\\n",
    "data results"
   ]
  },
  {
   "cell_type": "markdown",
   "metadata": {},
   "source": [
    "### Results\n",
    "\n",
    "Group reports help identify problematic fits. These reports include scatter plots of goodness-of-fit measures, periodic parameters, and aperiodic parameters. Selecting points in the group plots will open individual fit reports. Outlier points in these plots may indicate a noisy spectrum or inappropriate parameter settings. Individual reports include a plot of the model fit, fit parameters, and analysis settings. "
   ]
  },
  {
   "cell_type": "code",
   "execution_count": 5,
   "metadata": {
    "execution": {
     "iopub.execute_input": "2020-12-30T20:29:14.647333Z",
     "iopub.status.busy": "2020-12-30T20:29:14.645699Z",
     "iopub.status.idle": "2020-12-30T20:29:15.130635Z",
     "shell.execute_reply": "2020-12-30T20:29:15.131119Z"
    }
   },
   "outputs": [
    {
     "data": {
      "text/plain": [
       "True"
      ]
     },
     "execution_count": 1,
     "metadata": {},
     "output_type": "execute_result"
    }
   ],
   "source": [
    "# Open the group report in a new tab\n",
    "webbrowser.open(\"results/fooof/report_group.html\")"
   ]
  },
  {
   "cell_type": "code",
   "execution_count": 6,
   "metadata": {
    "execution": {
     "iopub.execute_input": "2020-12-30T20:29:15.135730Z",
     "iopub.status.busy": "2020-12-30T20:29:15.135189Z",
     "iopub.status.idle": "2020-12-30T20:29:15.604602Z",
     "shell.execute_reply": "2020-12-30T20:29:15.605010Z"
    }
   },
   "outputs": [
    {
     "data": {
      "text/plain": [
       "True"
      ]
     },
     "execution_count": 1,
     "metadata": {},
     "output_type": "execute_result"
    }
   ],
   "source": [
    "# Open a single spectrum's report in a new tab\n",
    "webbrowser.open(\"results/fooof/spectrum_dim1-0000/report.html\")"
   ]
  },
  {
   "cell_type": "markdown",
   "metadata": {},
   "source": [
    "### Loading Results\n",
    "\n",
    "The fooof node saves individual fit results as json files. These json files may be loaded into FOOOF objects."
   ]
  },
  {
   "cell_type": "code",
   "execution_count": 7,
   "metadata": {
    "execution": {
     "iopub.execute_input": "2020-12-30T20:29:15.607939Z",
     "iopub.status.busy": "2020-12-30T20:29:15.607566Z",
     "iopub.status.idle": "2020-12-30T20:29:15.720917Z",
     "shell.execute_reply": "2020-12-30T20:29:15.721406Z"
    },
    "tags": [
     "nbsphinx-thumbnail"
    ]
   },
   "outputs": [
    {
     "data": {
      "image/png": "[encoded data removed]",
      "text/plain": [
       "<Figure size 720x576 with 1 Axes>"
      ]
     },
     "metadata": {
      "needs_background": "light"
     },
     "output_type": "display_data"
    }
   ],
   "source": [
    "fm = FOOOF()\n",
    "fm.load(\"results.json\", \"results/fooof/spectrum_dim1-0000/\")\n",
    "fm.plot()"
   ]
  }
 ],
 "metadata": {
  "celltoolbar": "Tags",
  "kernelspec": {
   "display_name": "Python 3",
   "language": "python",
   "name": "python3"
  },
  "language_info": {
   "codemirror_mode": {
    "name": "ipython",
    "version": 3
   },
   "file_extension": ".py",
   "mimetype": "text/x-python",
   "name": "python",
   "nbconvert_exporter": "python",
   "pygments_lexer": "ipython3",
   "version": "3.8.5"
  }
 },
 "nbformat": 4,
 "nbformat_minor": 4
}
