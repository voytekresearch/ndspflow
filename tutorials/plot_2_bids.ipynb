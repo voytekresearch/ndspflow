{
 "cells": [
  {
   "cell_type": "code",
   "execution_count": 1,
   "id": "69325a32-e062-487e-bdfb-11465fb6e1e8",
   "metadata": {},
   "outputs": [],
   "source": [
    "import os\n",
    "from tqdm.notebook import tqdm\n",
    "import matplotlib.pyplot as plt\n",
    "\n",
    "import openneuro\n",
    "\n",
    "from ndspflow.workflows.workflow import WorkFlow\n",
    "\n",
    "from neurodsp.filt import filter_signal\n",
    "from neurodsp.spectral import compute_spectrum\n",
    "\n",
    "from fooof import FOOOF, FOOOFGroup\n",
    "from bycycle import Bycycle"
   ]
  },
  {
   "cell_type": "markdown",
   "id": "ce2ce3e1-df31-44fe-a2d3-703ff35c952f",
   "metadata": {},
   "source": [
    "# BIDS WorkFlow\n",
    "\n",
    "Below, we fetch a BIDS dataset using the openneuro cli. Then define and execute the following workflow:\n",
    "\n",
    "1. Load the BIDS directory using MNE BIDS\n",
    "2. Apply custom functions to select channels and epoch the signal\n",
    "3. Low-pass filter with neurodsp\n",
    "4. Fit FOOOF\n",
    "5. Fit Bycycle"
   ]
  },
  {
   "cell_type": "code",
   "execution_count": 2,
   "id": "0014d99f-d902-47cb-8cb0-d9e6c05b1e4f",
   "metadata": {
    "tags": []
   },
   "outputs": [
    {
     "data": {
      "application/vnd.jupyter.widget-view+json": {
       "model_id": "",
       "version_major": 2,
       "version_minor": 0
      },
      "text/plain": [
       "Re-downloading CHANGES: file size mismatch.: 0.00B [00:00, ?B/s]"
      ]
     },
     "metadata": {},
     "output_type": "display_data"
    },
    {
     "data": {
      "application/vnd.jupyter.widget-view+json": {
       "model_id": "",
       "version_major": 2,
       "version_minor": 0
      },
      "text/plain": [
       "Re-downloading dataset_description.json: file size mismatch.: 0.00B [00:00, ?B/s]"
      ]
     },
     "metadata": {},
     "output_type": "display_data"
    },
    {
     "data": {
      "application/vnd.jupyter.widget-view+json": {
       "model_id": "",
       "version_major": 2,
       "version_minor": 0
      },
      "text/plain": [
       "sub-RESP0059_ses-SITUATION1A_electrodes.json: 0.00B [00:00, ?B/s]"
      ]
     },
     "metadata": {},
     "output_type": "display_data"
    },
    {
     "data": {
      "application/vnd.jupyter.widget-view+json": {
       "model_id": "",
       "version_major": 2,
       "version_minor": 0
      },
      "text/plain": [
       "Skipping README: already downloaded.: 100%|##########| 4.83k/4.83k [00:00<?, ?B/s]"
      ]
     },
     "metadata": {},
     "output_type": "display_data"
    },
    {
     "data": {
      "application/vnd.jupyter.widget-view+json": {
       "model_id": "",
       "version_major": 2,
       "version_minor": 0
      },
      "text/plain": [
       "Skipping participants.tsv: already downloaded.: 100%|##########| 281/281 [00:00<?, ?B/s]"
      ]
     },
     "metadata": {},
     "output_type": "display_data"
    },
    {
     "data": {
      "application/vnd.jupyter.widget-view+json": {
       "model_id": "",
       "version_major": 2,
       "version_minor": 0
      },
      "text/plain": [
       "Skipping participants.json: already downloaded.: 100%|##########| 550/550 [00:00<?, ?B/s]"
      ]
     },
     "metadata": {},
     "output_type": "display_data"
    },
    {
     "data": {
      "application/vnd.jupyter.widget-view+json": {
       "model_id": "",
       "version_major": 2,
       "version_minor": 0
      },
      "text/plain": [
       "Skipping sub-RESP0059_ses-SITUATION1A_electrodes.tsv: already downloaded.: 100%|##########| 1.71k/1.71k [00:00…"
      ]
     },
     "metadata": {},
     "output_type": "display_data"
    },
    {
     "data": {
      "application/vnd.jupyter.widget-view+json": {
       "model_id": "",
       "version_major": 2,
       "version_minor": 0
      },
      "text/plain": [
       "Skipping sub-RESP0059_ses-SITUATION1A_task-acute_channels.tsv: already downloaded.: 100%|##########| 1.96k/1.9…"
      ]
     },
     "metadata": {},
     "output_type": "display_data"
    },
    {
     "data": {
      "application/vnd.jupyter.widget-view+json": {
       "model_id": "",
       "version_major": 2,
       "version_minor": 0
      },
      "text/plain": [
       "Skipping sub-RESP0059_ses-SITUATION1A_task-acute_ieeg.json: already downloaded.: 100%|##########| 1.43k/1.43k …"
      ]
     },
     "metadata": {},
     "output_type": "display_data"
    },
    {
     "data": {
      "application/vnd.jupyter.widget-view+json": {
       "model_id": "",
       "version_major": 2,
       "version_minor": 0
      },
      "text/plain": [
       "Skipping sub-RESP0059_ses-SITUATION1A_task-acute_events.tsv: already downloaded.: 100%|##########| 936/936 [00…"
      ]
     },
     "metadata": {},
     "output_type": "display_data"
    },
    {
     "data": {
      "application/vnd.jupyter.widget-view+json": {
       "model_id": "",
       "version_major": 2,
       "version_minor": 0
      },
      "text/plain": [
       "Re-downloading sub-RESP0280_ses-SITUATION1A_channels.json: file size mismatch.: 0.00B [00:00, ?B/s]"
      ]
     },
     "metadata": {},
     "output_type": "display_data"
    },
    {
     "data": {
      "application/vnd.jupyter.widget-view+json": {
       "model_id": "",
       "version_major": 2,
       "version_minor": 0
      },
      "text/plain": [
       "Skipping sub-RESP0280_ses-SITUATION1A_coordsystem.json: already downloaded.: 100%|##########| 453/453 [00:00<?…"
      ]
     },
     "metadata": {},
     "output_type": "display_data"
    },
    {
     "data": {
      "application/vnd.jupyter.widget-view+json": {
       "model_id": "",
       "version_major": 2,
       "version_minor": 0
      },
      "text/plain": [
       "Re-downloading sub-RESP0280_ses-SITUATION1A_task-acute_channels.tsv: file size mismatch.: 0.00B [00:00, ?B/s]"
      ]
     },
     "metadata": {},
     "output_type": "display_data"
    },
    {
     "data": {
      "application/vnd.jupyter.widget-view+json": {
       "model_id": "",
       "version_major": 2,
       "version_minor": 0
      },
      "text/plain": [
       "Re-downloading sub-RESP0280_ses-SITUATION1A_events.json: file size mismatch.: 0.00B [00:00, ?B/s]"
      ]
     },
     "metadata": {},
     "output_type": "display_data"
    },
    {
     "data": {
      "application/vnd.jupyter.widget-view+json": {
       "model_id": "",
       "version_major": 2,
       "version_minor": 0
      },
      "text/plain": [
       "Skipping sub-RESP0280_ses-SITUATION1A_electrodes.tsv: already downloaded.: 100%|##########| 3.24k/3.24k [00:00…"
      ]
     },
     "metadata": {},
     "output_type": "display_data"
    },
    {
     "data": {
      "application/vnd.jupyter.widget-view+json": {
       "model_id": "",
       "version_major": 2,
       "version_minor": 0
      },
      "text/plain": [
       "Skipping sub-RESP0280_ses-SITUATION1A_task-acute_events.tsv: already downloaded.: 100%|##########| 121/121 [00…"
      ]
     },
     "metadata": {},
     "output_type": "display_data"
    },
    {
     "data": {
      "application/vnd.jupyter.widget-view+json": {
       "model_id": "",
       "version_major": 2,
       "version_minor": 0
      },
      "text/plain": [
       "Skipping sub-RESP0059_ses-SITUATION1A_task-acute_ieeg.vmrk: already downloaded.: 100%|##########| 446/446 [00:…"
      ]
     },
     "metadata": {},
     "output_type": "display_data"
    },
    {
     "data": {
      "application/vnd.jupyter.widget-view+json": {
       "model_id": "",
       "version_major": 2,
       "version_minor": 0
      },
      "text/plain": [
       "Skipping sub-RESP0280_ses-SITUATION1A_task-acute_ieeg.vmrk: already downloaded.: 100%|##########| 446/446 [00:…"
      ]
     },
     "metadata": {},
     "output_type": "display_data"
    },
    {
     "data": {
      "application/vnd.jupyter.widget-view+json": {
       "model_id": "",
       "version_major": 2,
       "version_minor": 0
      },
      "text/plain": [
       "Re-downloading sub-RESP0059_ses-SITUATION1A_channels.json: file size mismatch.: 0.00B [00:00, ?B/s]"
      ]
     },
     "metadata": {},
     "output_type": "display_data"
    },
    {
     "data": {
      "application/vnd.jupyter.widget-view+json": {
       "model_id": "",
       "version_major": 2,
       "version_minor": 0
      },
      "text/plain": [
       "Skipping sub-RESP0280_ses-SITUATION1A_task-acute_ieeg.vhdr: already downloaded.: 100%|##########| 1.26k/1.26k …"
      ]
     },
     "metadata": {},
     "output_type": "display_data"
    },
    {
     "data": {
      "application/vnd.jupyter.widget-view+json": {
       "model_id": "",
       "version_major": 2,
       "version_minor": 0
      },
      "text/plain": [
       "Skipping sub-RESP0059_ses-SITUATION1A_coordsystem.json: already downloaded.: 100%|##########| 453/453 [00:00<?…"
      ]
     },
     "metadata": {},
     "output_type": "display_data"
    },
    {
     "data": {
      "application/vnd.jupyter.widget-view+json": {
       "model_id": "",
       "version_major": 2,
       "version_minor": 0
      },
      "text/plain": [
       "Re-downloading sub-RESP0280_ses-SITUATION1A_electrodes.json: file size mismatch.: 0.00B [00:00, ?B/s]"
      ]
     },
     "metadata": {},
     "output_type": "display_data"
    },
    {
     "data": {
      "application/vnd.jupyter.widget-view+json": {
       "model_id": "",
       "version_major": 2,
       "version_minor": 0
      },
      "text/plain": [
       "sub-RESP0059_ses-SITUATION1A_events.json: 0.00B [00:00, ?B/s]"
      ]
     },
     "metadata": {},
     "output_type": "display_data"
    },
    {
     "data": {
      "application/vnd.jupyter.widget-view+json": {
       "model_id": "",
       "version_major": 2,
       "version_minor": 0
      },
      "text/plain": [
       "Skipping sub-RESP0280_ses-SITUATION1A_task-acute_ieeg.json: already downloaded.: 100%|##########| 1.43k/1.43k …"
      ]
     },
     "metadata": {},
     "output_type": "display_data"
    },
    {
     "data": {
      "application/vnd.jupyter.widget-view+json": {
       "model_id": "",
       "version_major": 2,
       "version_minor": 0
      },
      "text/plain": [
       "Skipping sub-RESP0059_ses-SITUATION1A_task-acute_ieeg.vhdr: already downloaded.: 100%|##########| 834/834 [00:…"
      ]
     },
     "metadata": {},
     "output_type": "display_data"
    },
    {
     "data": {
      "application/vnd.jupyter.widget-view+json": {
       "model_id": "",
       "version_major": 2,
       "version_minor": 0
      },
      "text/plain": [
       "Skipping sub-RESP0059_ses-SITUATION1A_task-acute_ieeg.eeg: already downloaded.: 100%|##########| 81.2M/81.2M […"
      ]
     },
     "metadata": {},
     "output_type": "display_data"
    },
    {
     "data": {
      "application/vnd.jupyter.widget-view+json": {
       "model_id": "",
       "version_major": 2,
       "version_minor": 0
      },
      "text/plain": [
       "Skipping sub-RESP0280_ses-SITUATION1A_task-acute_ieeg.eeg: already downloaded.: 100%|##########| 55.4M/55.4M […"
      ]
     },
     "metadata": {},
     "output_type": "display_data"
    }
   ],
   "source": [
    "%%capture\n",
    "dataset = 'ds003844'\n",
    "include = ['sub-RESP0059/ses-SITUATION1A', 'sub-RESP0280/ses-SITUATION1A']\n",
    "\n",
    "# Create BIDs folder\n",
    "bids_path = f'{os.getcwd()}/bids'\n",
    "\n",
    "if not os.path.isdir(bids_path):\n",
    "    os.makedirs(bids_path)\n",
    "    \n",
    "openneuro.download(dataset=dataset, target_dir=bids_path, include=include)"
   ]
  },
  {
   "cell_type": "code",
   "execution_count": 3,
   "id": "57bb12df-fbe9-4d7c-bb35-63c652d9e1ef",
   "metadata": {},
   "outputs": [],
   "source": [
    "def select_channels(y_array, channels):\n",
    "    \"\"\"Select sub-set of channels.\"\"\"\n",
    "    inds = [ind for ind, ch in enumerate(channels)\n",
    "            if ch in channels]\n",
    "    \n",
    "    return y_array[inds, :]\n",
    "    \n",
    "def epoch(y_array, n_epochs, epoch_len):\n",
    "    \"\"\"Epoch function.\"\"\"\n",
    "    y_array = y_array[:, :int(n_epochs) * epoch_len]\n",
    "    y_array = y_array.reshape(-1, epoch_len)\n",
    "    \n",
    "    return y_array"
   ]
  },
  {
   "cell_type": "code",
   "execution_count": 4,
   "id": "718f6c74-4f01-4c92-a932-5de83a5f568f",
   "metadata": {},
   "outputs": [
    {
     "data": {
      "application/vnd.jupyter.widget-view+json": {
       "model_id": "9e49f734a35d4281a394a94dd21af27c",
       "version_major": 2,
       "version_minor": 0
      },
      "text/plain": [
       "Running Workflow:   0%|          | 0/2 [00:00<?, ?it/s]"
      ]
     },
     "metadata": {},
     "output_type": "display_data"
    }
   ],
   "source": [
    "wf = WorkFlow(bids_path=bids_path, session='SITUATION1A', task='acute')\n",
    "\n",
    "wf.read_bids(subject='sub-RESP0059', allow_ragged=True)\n",
    "\n",
    "# Custom transforms\n",
    "wf.transform(select_channels, ['Gr16', 'Gr17'])\n",
    "wf.transform(epoch, 2, 5000)\n",
    "wf.transform(filter_signal, 'self.fs', 'lowpass', 200, remove_edges=False)\n",
    "\n",
    "wf.fork(0)\n",
    "wf.transform(compute_spectrum, 'self.fs')\n",
    "wf.fit(FOOOF(verbose=False, max_n_peaks=5), (1, 100), axis=-1)\n",
    "\n",
    "wf.fork(0)\n",
    "wf.fit(Bycycle(), 'self.fs', (50, 100), axis=-1)\n",
    "\n",
    "wf.run(n_jobs=1, progress=tqdm)"
   ]
  },
  {
   "cell_type": "code",
   "execution_count": 5,
   "id": "3add2dde-00f8-4744-be4e-4477f9ff207f",
   "metadata": {},
   "outputs": [
    {
     "data": {
      "text/plain": [
       "[[[<fooof.objs.fit.FOOOF at 0x7fc9633a5a60>,\n",
       "   <fooof.objs.fit.FOOOF at 0x7fc9633a5310>,\n",
       "   <fooof.objs.fit.FOOOF at 0x7fc9633885e0>,\n",
       "   <fooof.objs.fit.FOOOF at 0x7fc963388340>],\n",
       "  [<bycycle.objs.fit.Bycycle at 0x7fc963388a60>,\n",
       "   <bycycle.objs.fit.Bycycle at 0x7fc9633920d0>,\n",
       "   <bycycle.objs.fit.Bycycle at 0x7fc963392dc0>,\n",
       "   <bycycle.objs.fit.Bycycle at 0x7fc960247160>]],\n",
       " [[<fooof.objs.fit.FOOOF at 0x7fc9633a5eb0>,\n",
       "   <fooof.objs.fit.FOOOF at 0x7fc96232ad30>,\n",
       "   <fooof.objs.fit.FOOOF at 0x7fc963388d00>,\n",
       "   <fooof.objs.fit.FOOOF at 0x7fc963392a00>],\n",
       "  [<bycycle.objs.fit.Bycycle at 0x7fc960247970>,\n",
       "   <bycycle.objs.fit.Bycycle at 0x7fc960247850>,\n",
       "   <bycycle.objs.fit.Bycycle at 0x7fc960247cd0>,\n",
       "   <bycycle.objs.fit.Bycycle at 0x7fc960247f10>]]]"
      ]
     },
     "execution_count": 5,
     "metadata": {},
     "output_type": "execute_result"
    }
   ],
   "source": [
    "wf.results"
   ]
  },
  {
   "cell_type": "markdown",
   "id": "b349a044-2b1a-40c0-9d97-f9882b2b0928",
   "metadata": {},
   "source": [
    "## Inspecting Workflows\n",
    "Workflows may be inspected using the `.merge` method. This executes each workflow and stores the result into the `y_array` attribute. Below, we plot the signals resulting from the preprocessing in the workflow."
   ]
  },
  {
   "cell_type": "code",
   "execution_count": 6,
   "id": "c1d4860f-1ad0-4781-8532-e3284e49c507",
   "metadata": {},
   "outputs": [],
   "source": [
    "wf = WorkFlow(bids_path=bids_path, session='SITUATION1A', task='acute')\n",
    "\n",
    "wf.read_bids(subject='sub-RESP0059', allow_ragged=True)\n",
    "\n",
    "# Custom transforms\n",
    "wf.transform(select_channels, ['Gr16', 'Gr17'])\n",
    "wf.transform(epoch, 2, 5000)\n",
    "wf.transform(filter_signal, 'self.fs', 'lowpass', 200, remove_edges=False)\n",
    "wf.merge()"
   ]
  },
  {
   "cell_type": "code",
   "execution_count": 7,
   "id": "b1b7888d-484d-4042-831d-1645a46f32aa",
   "metadata": {
    "tags": [
     "nbsphinx-thumbnail"
    ]
   },
   "outputs": [
    {
     "data": {
      "text/plain": [
       "Text(0.5, 0, 'Time (samples)')"
      ]
     },
     "execution_count": 7,
     "metadata": {},
     "output_type": "execute_result"
    },
    {
     "data": {
      "image/png": "[encoded data removed]",
      "text/plain": [
       "<Figure size 864x144 with 1 Axes>"
      ]
     },
     "metadata": {
      "needs_background": "light"
     },
     "output_type": "display_data"
    }
   ],
   "source": [
    "# Plot example channels\n",
    "plt.figure(figsize=(12, 2))\n",
    "for subj in wf.y_array:\n",
    "    for ch in subj[2:]:\n",
    "        plt.plot(ch)\n",
    "        \n",
    "plt.ylabel('Voltage')\n",
    "plt.xlabel('Time (samples)')"
   ]
  }
 ],
 "metadata": {
  "kernelspec": {
   "display_name": "Python 3",
   "language": "python",
   "name": "python3"
  },
  "language_info": {
   "codemirror_mode": {
    "name": "ipython",
    "version": 3
   },
   "file_extension": ".py",
   "mimetype": "text/x-python",
   "name": "python",
   "nbconvert_exporter": "python",
   "pygments_lexer": "ipython3",
   "version": "3.8.10"
  }
 },
 "nbformat": 4,
 "nbformat_minor": 5
}
