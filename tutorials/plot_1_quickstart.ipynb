{
 "cells": [
  {
   "cell_type": "markdown",
   "metadata": {},
   "source": [
    "# 1. Quickstart"
   ]
  },
  {
   "cell_type": "markdown",
   "metadata": {},
   "source": [
    "### Installation\n",
    "\n",
    "It is recommended to install `ndspflow` within a virtual environment, either from pypi or from a github clone:\n",
    "\n",
    "- `pip install ndspflow`\n",
    "- `git clone https://github.com/voytekresearch/ndspflow.git && cd ndspflow && pip install .`"
   ]
  },
  {
   "cell_type": "markdown",
   "metadata": {},
   "source": [
    "### Command-Line Interface Specifications \n",
    "\n",
    "If successfully installed, `ndspflow` will be recognized by your system's shell. Analysis settings and workflow options may be displayed using the `--help` option.\n",
    "\n",
    "**Required Arguments**\n",
    "\n",
    "If the `run_nodes` argument is set to fooof, `power_spectrum`, `freqs`, and `f_range_fooof` are required. If the `run_nodes` argument is set to fooof `bycycle` is included in the `run_nodes` argument, `sig`, `fs`, and `f_range_bycycle` are required. If `run_nodes` is set to `both`, then all six of the previous arguments are required. The last two positional arguments are paths to read input data and write output data, respectively.\n",
    "\n",
    "**Optional Arguments**\n",
    "\n",
    "All other settings have default values. However, it is recommended to determine if these values are appropriate for your data. Indivdual and group analysis reports created from the default settings often help inform more appropriate settings. These reports will be explored in _other tutorials (replace with link)_. The documentation sites for [bycycle](https://bycycle-tools.github.io/bycycle/) and [fooof](https://fooof-tools.github.io/fooof/) provide tutorials and examples using these settings. For example, this [bycycle tutorial](https://bycycle-tools.github.io/bycycle/auto_tutorials/plot_2_bycycle_algorithm.html#sphx-glr-auto-tutorials-plot-2-bycycle-algorithm-py) is helpful in determining appropriate burst detection thresholds. Likewise, this [fooof tutorial](https://fooof-tools.github.io/fooof/auto_tutorials/plot_07-TroubleShooting.html#sphx-glr-auto-tutorials-plot-07-troubleshooting-py) is helpful in determining appropriate spectral peak settings."
   ]
  },
  {
   "cell_type": "code",
   "execution_count": 1,
   "metadata": {
    "execution": {
     "iopub.execute_input": "2020-12-29T03:26:25.323453Z",
     "iopub.status.busy": "2020-12-29T03:26:25.322872Z",
     "iopub.status.idle": "2020-12-29T03:26:26.023665Z",
     "shell.execute_reply": "2020-12-29T03:26:26.022991Z"
    }
   },
   "outputs": [
    {
     "name": "stdout",
     "output_type": "stream",
     "text": [
      "usage: ndspflow [-h] [-power_spectrum powers.npy] [-freqs freqs.npy]\n",
      "                [-f_range_fooof lower_freq upper_freq] [-sig signal.npy]\n",
      "                [-fs int] [-f_range_bycycle lower_freq upper_freq]\n",
      "                [-peak_width_limits lower_limit upper_limit]\n",
      "                [-max_n_peaks int] [-min_peak_height float]\n",
      "                [-peak_threshold float] [-aperiodic_mode {fixed,knee}]\n",
      "                [-center_extrema {peak,trough}] [-burst_method {cycles,amp}]\n",
      "                [-amp_fraction_threshold float]\n",
      "                [-amp_consistency_threshold float]\n",
      "                [-period_consistency_threshold float]\n",
      "                [-monotonicity_threshold float] [-min_n_cycles int]\n",
      "                [-burst_fraction_threshold float] [-axis {0, 1, 0, 1, None}]\n",
      "                [-n_jobs int] [-run_nodes {fooof,bycycle,both}]\n",
      "                /path/to/input /path/to/output\n",
      "\n",
      "A Nipype workflow for FOOOF and Bycycle.\n",
      "\n",
      "positional arguments:\n",
      "  /path/to/input        Input directory containing timeseries and/or spectra .npy files to read (default: None).\n",
      "  /path/to/output       Output directory to write results and BIDS derivatives to write (default: None).\n",
      "\n",
      "optional arguments:\n",
      "  -h, --help            show this help message and exit\n",
      "  -power_spectrum powers.npy\n",
      "                        Filename of power values, located inside of 'input_dir'\n",
      "                        Required if 'fooof' in 'run_nodes argument' (default: None).\n",
      "  -freqs freqs.npy      Filename of frequency values for the power spectrum(a), located inside of 'input_dir'.\n",
      "                        Required if 'fooof' in 'run_nodes argument' (default: None).\n",
      "  -f_range_fooof lower_freq upper_freq\n",
      "                        Frequency range of the power spectrum, as: lower_freq, upper_freq.\n",
      "                        Recommended if 'fooof' in 'run_nodes argument' (default: (-inf, inf)).\n",
      "  -sig signal.npy       Filename of neural signal or timeseries, located inside of 'input_dir'.\n",
      "                        Required if 'bycycle' in 'run_nodes argument' (default: None).\n",
      "  -fs int               Sampling rate, in Hz.\n",
      "                        Required if 'bycycle' in 'run_nodes argument'.\n",
      "  -f_range_bycycle lower_freq upper_freq\n",
      "                        Frequency range for narrowband signal of interest (Hz).\n",
      "                        Required if 'bycycle' in 'run_nodes argument'.\n",
      "                         \n",
      "  -peak_width_limits lower_limit upper_limit\n",
      "                        Limits on peak widths, in Hz, as: lower_limit upper_limit.\n",
      "                        Recommended if 'fooof' in 'run_nodes argument' (default: (0.5, 12.0)).\n",
      "  -max_n_peaks int      Maximum number of peaks to fit.\n",
      "                        Recommended if 'fooof' in 'run_nodes argument' (default: 100).\n",
      "  -min_peak_height float\n",
      "                        Absolute threshold for detecting peaks, in units of the input data.\n",
      "                        Recommended if 'fooof' in 'run_nodes argument' (default: 0.0).\n",
      "  -peak_threshold float\n",
      "                        Relative threshold for detecting peaks, in units of standard deviation of the input data.\n",
      "                        Recommended if 'fooof' in 'run_nodes argument' (default: 2.0).\n",
      "  -aperiodic_mode {fixed,knee}\n",
      "                        Which approach to take for fitting the aperiodic component.\n",
      "                        Recommended if 'fooof' in 'run_nodes argument' (default: fixed).\n",
      "                         \n",
      "  -center_extrema {peak,trough}\n",
      "                        Determines if cycles are peak or trough centered.\n",
      "                        Recommended if 'bycycle' in 'run_nodes argument' (default: peak).\n",
      "  -burst_method {cycles,amp}\n",
      "                        Method for burst detection.\n",
      "                        Recommended if 'bycycle' in 'run_nodes argument' (default: cycles).\n",
      "  -amp_fraction_threshold float\n",
      "                        Amplitude fraction threshold for detecting bursts.\n",
      "                        Recommended if 'burst_method' is 'cycles' (default: 0).\n",
      "  -amp_consistency_threshold float\n",
      "                        Amplitude consistency threshold for detecting bursts.\n",
      "                        Recommended if 'burst_method' is 'cycles' (default: 0.5).\n",
      "  -period_consistency_threshold float\n",
      "                        Period consistency threshold for detecting bursts.\n",
      "                        Recommended if 'burst_method' is 'cycles' (default: 0.5).\n",
      "  -monotonicity_threshold float\n",
      "                        Monotonicicity threshold for detecting bursts.\n",
      "                        Recommended if 'burst_method' is 'cycles' (default: 0.8).\n",
      "  -min_n_cycles int     Minium number of cycles for detecting bursts\n",
      "                        Recommended for either 'burst_method' (default: 3).\n",
      "  -burst_fraction_threshold float\n",
      "                        Minimum fraction of a cycle identified as a burst.\n",
      "                        Recommended if 'burst_method' is 'amp' (default: 1).\n",
      "  -axis {0, 1, (0, 1), None}\n",
      "                        The axis to compute features across for 2D and 3D signal arrays.\n",
      "                        Ignored if signal is 1D. 1 and (0, 1) only availble for 3D signals\n",
      "                        (default: 0).\n",
      "                         \n",
      "  -n_jobs int           The maximum number of jobs to run in parallel at one time.\n",
      "                        Only utilized for 2d and 3d arrays (default: 1).\n",
      "  -run_nodes {fooof,bycycle,both}\n",
      "                        List of nodes to run: fooof and/or bycyle (default: fooof bycycle).\n"
     ]
    }
   ],
   "source": [
    "%%bash\n",
    "\n",
    "# Check if installation was successful and list all CLI specifications:\n",
    "ndspflow --help"
   ]
  }
 ],
 "metadata": {
  "celltoolbar": "Tags",
  "kernelspec": {
   "display_name": "Python 3",
   "language": "python",
   "name": "python3"
  },
  "language_info": {
   "codemirror_mode": {
    "name": "ipython",
    "version": 3
   },
   "file_extension": ".py",
   "mimetype": "text/x-python",
   "name": "python",
   "nbconvert_exporter": "python",
   "pygments_lexer": "ipython3",
   "version": "3.8.5"
  }
 },
 "nbformat": 4,
 "nbformat_minor": 4
}
