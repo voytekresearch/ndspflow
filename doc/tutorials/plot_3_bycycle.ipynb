{
 "cells": [
  {
   "cell_type": "markdown",
   "metadata": {},
   "source": [
    "# 3. Bycycle\n",
    "\n",
    "In this tutorial, `ndspflow` will be used to run the bycycle analysis node with simulated data."
   ]
  },
  {
   "cell_type": "markdown",
   "metadata": {},
   "source": [
    "### Simulate Data\n",
    "\n",
    "First, a group of 10 timeseries will be simulated and saved as a .npy file."
   ]
  },
  {
   "cell_type": "code",
   "execution_count": null,
   "metadata": {},
   "outputs": [],
   "source": [
    "import os\n",
    "import webbrowser\n",
    "\n",
    "import numpy as np\n",
    "import pandas as pd\n",
    "\n",
    "from neurodsp.sim import sim_combined\n",
    "from bycycle.plts import plot_burst_detect_summary"
   ]
  },
  {
   "cell_type": "code",
   "execution_count": null,
   "metadata": {},
   "outputs": [],
   "source": [
    "# Simulate data\n",
    "n_timeseries = 5\n",
    "fs = 500\n",
    "n_seconds = 10\n",
    "\n",
    "sigs = np.zeros((n_timeseries, int(fs * n_seconds)))\n",
    "components = {'sim_bursty_oscillation': {'freq': 20}, 'sim_powerlaw': {'exponent': -2}}\n",
    "\n",
    "for idx in range(n_timeseries):\n",
    "    sigs[idx] = sim_combined(n_seconds, fs, components)"
   ]
  },
  {
   "cell_type": "code",
   "execution_count": null,
   "metadata": {},
   "outputs": [],
   "source": [
    "# Save data\n",
    "for dirname in ['data', 'results']:\n",
    "    if not os.path.isdir(dirname):\n",
    "        os.mkdir(dirname)\n",
    "\n",
    "np.save(\"data/sigs.npy\", sigs)"
   ]
  },
  {
   "cell_type": "markdown",
   "metadata": {},
   "source": [
    "### Running Bycycle\n",
    "\n",
    "Next, the bycycle node will be ran using the simulated data. The parameters specified include:\n",
    "\n",
    "- `sig` : name of the 2D timeseries .npy file\n",
    "- `fs` : sampling rate in hz\n",
    "- `f_range_bycycle` : the frequency rate for oscillations of interest\n",
    "- `center_extrema` : defines the centers of cycles {peak, trough}\n",
    "- `burst_method` : the burst detection method {cycles, peaks}\n",
    "- `*_threshold` : burst detection thresholds\n",
    "- `min_n_cycles` : minimum number of consecutive cycles for burst detection\n",
    "- `axis` : the axis to compute features across\n",
    "- `n_jobs` : the number of jobs to run in parallel (-1 defaults to max).\n",
    "- `run_nodes` : which node(s) to run"
   ]
  },
  {
   "cell_type": "code",
   "execution_count": null,
   "metadata": {},
   "outputs": [],
   "source": [
    "%%bash\n",
    "\n",
    "ndspflow \\\n",
    "-sig sigs.npy \\\n",
    "-fs 500 \\\n",
    "-f_range_bycycle 15 25 \\\n",
    "-center_extrema peak \\\n",
    "-burst_method cycles \\\n",
    "-amp_fraction_threshold .5 \\\n",
    "-amp_consistency_threshold 0 \\\n",
    "-period_consistency_threshold .5 \\\n",
    "-monotonicity_threshold .8 \\\n",
    "-min_n_cycles 2 \\\n",
    "-axis 0 \\\n",
    "-n_jobs -1 \\\n",
    "-run_nodes bycycle \\\n",
    "data results"
   ]
  },
  {
   "cell_type": "markdown",
   "metadata": {},
   "source": [
    "### Results\n",
    "\n",
    "Group reports may be used compare burst detection results between all signal arrays. Individual reports may be used to identify burst detection thresholds that are too conservative or too lenient. The plots in these reports are interactive and support rescaling the time axis. Cycles in the plots may be selected to relabel as burst or non-burst. Selecting the \"Update Burst\" button will save out manually burst detection adjustments as a csv file. However, it is recommended to adjust burst thresholds first."
   ]
  },
  {
   "cell_type": "code",
   "execution_count": null,
   "metadata": {},
   "outputs": [],
   "source": [
    "# Open the group report in a new tab\n",
    "webbrowser.open(\"results/bycycle/report_group.html\")"
   ]
  },
  {
   "cell_type": "code",
   "execution_count": null,
   "metadata": {},
   "outputs": [],
   "source": [
    "# Open the a single report in a new tab\n",
    "webbrowser.open(\"results/bycycle/signal_dim1-0000/report.html\")"
   ]
  },
  {
   "cell_type": "markdown",
   "metadata": {},
   "source": [
    "### Loading results\n",
    "\n",
    "The bycycle node saves individual results as csv files. These json files may be loaded into dataframe objects."
   ]
  },
  {
   "cell_type": "code",
   "execution_count": null,
   "metadata": {
    "tags": [
     "nbsphinx-thumbnail"
    ]
   },
   "outputs": [],
   "source": [
    "df = pd.read_csv('results/bycycle/signal_dim1-0000/results.csv')\n",
    "\n",
    "thresholds = dict(amp_fraction_threshold=.5, amp_consistency_threshold=0,\n",
    "                  period_consistency_threshold=.5, monotonicity_threshold=.8)\n",
    "\n",
    "plot_burst_detect_summary(df, sigs[0], fs, thresholds, plot_only_result=True)"
   ]
  }
 ],
 "metadata": {
  "celltoolbar": "Tags",
  "kernelspec": {
   "display_name": "Python 3",
   "language": "python",
   "name": "python3"
  },
  "language_info": {
   "codemirror_mode": {
    "name": "ipython",
    "version": 3
   },
   "file_extension": ".py",
   "mimetype": "text/x-python",
   "name": "python",
   "nbconvert_exporter": "python",
   "pygments_lexer": "ipython3",
   "version": "3.8.5"
  }
 },
 "nbformat": 4,
 "nbformat_minor": 4
}
