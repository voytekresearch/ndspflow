{
 "cells": [
  {
   "cell_type": "markdown",
   "metadata": {},
   "source": [
    "# 1. Quickstart"
   ]
  },
  {
   "cell_type": "markdown",
   "metadata": {},
   "source": [
    "### Installation\n",
    "\n",
    "It is recommended to install `ndspflow` within a virtual environment, either from pypi or from a github clone:\n",
    "\n",
    "- `pip install ndspflow`\n",
    "- `git clone https://github.com/voytekresearch/ndspflow.git && cd ndspflow && pip install .`"
   ]
  },
  {
   "cell_type": "markdown",
   "metadata": {},
   "source": [
    "### Command-Line Interface Specifications \n",
    "\n",
    "If successfully installed, `ndspflow` will be recognized by your system's shell. Analysis settings and workflow options may be displayed using the `--help` option.\n",
    "\n",
    "**Required Arguments**\n",
    "\n",
    "When `fooof` is in the `run_nodes` argument:\n",
    "\n",
    "- `power_spectrum`\n",
    "- `freqs`\n",
    "- `f_range_fooof`\n",
    "\n",
    "When `bycycle` is in the `run_nodes` argument:\n",
    "\n",
    "- `sig`\n",
    "- `fs`\n",
    "- `f_range_bycycle`\n",
    "\n",
    "If `run_nodes` is set to `both`, then all six of the previous arguments are required.\n",
    "\n",
    "The last two positional (required) arguments are paths to read input data and write output data, respectively.\n",
    "\n",
    "**Optional Arguments**\n",
    "\n",
    "All other settings have default values. However, it is recommended to determine if these values are appropriate for your data. Indivdual and group analysis reports created from the default settings often help inform more appropriate settings. These reports will be explored in the next two tutorials. The documentation sites for [bycycle](https://bycycle-tools.github.io/bycycle/) and [fooof](https://fooof-tools.github.io/fooof/) provide tutorials and examples using these settings. For example, this [bycycle tutorial](https://bycycle-tools.github.io/bycycle/auto_tutorials/plot_2_bycycle_algorithm.html#sphx-glr-auto-tutorials-plot-2-bycycle-algorithm-py) is helpful in determining appropriate burst detection thresholds. Likewise, this [fooof tutorial](https://fooof-tools.github.io/fooof/auto_tutorials/plot_07-TroubleShooting.html#sphx-glr-auto-tutorials-plot-07-troubleshooting-py) is helpful in determining appropriate spectral peak settings."
   ]
  },
  {
   "cell_type": "code",
   "execution_count": null,
   "metadata": {},
   "outputs": [],
   "source": [
    "%%bash\n",
    "\n",
    "# Check if installation was successful and list all CLI specifications:\n",
    "ndspflow --help"
   ]
  }
 ],
 "metadata": {
  "celltoolbar": "Tags",
  "kernelspec": {
   "display_name": "Python 3",
   "language": "python",
   "name": "python3"
  },
  "language_info": {
   "codemirror_mode": {
    "name": "ipython",
    "version": 3
   },
   "file_extension": ".py",
   "mimetype": "text/x-python",
   "name": "python",
   "nbconvert_exporter": "python",
   "pygments_lexer": "ipython3",
   "version": "3.8.5"
  }
 },
 "nbformat": 4,
 "nbformat_minor": 4
}
