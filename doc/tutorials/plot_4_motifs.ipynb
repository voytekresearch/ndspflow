{
 "cells": [
  {
   "cell_type": "markdown",
   "metadata": {},
   "source": [
    "# 3. Motifs\n",
    "\n",
    "In this tutorial, waveform motif identification will be demonstrated with simulated and ECoG data."
   ]
  },
  {
   "cell_type": "markdown",
   "metadata": {},
   "source": [
    "## Simulated Data\n",
    "\n",
    "First, a timeseries containing two bursty, asymmetrical sine waves with a 1/f background will be simulated."
   ]
  },
  {
   "cell_type": "code",
   "execution_count": null,
   "metadata": {},
   "outputs": [],
   "source": [
    "from itertools import cycle\n",
    "import numpy as np\n",
    "\n",
    "from neurodsp.sim import sim_oscillation, sim_powerlaw\n",
    "from neurodsp.plts import plot_time_series, plot_power_spectra\n",
    "from neurodsp.spectral import compute_spectrum\n",
    "from neurodsp.filt import filter_signal\n",
    "from neurodsp.utils.norm import normalize_sig\n",
    "\n",
    "from fooof import FOOOF\n",
    "\n",
    "from ndspflow.motif import Motif\n",
    "from ndspflow.optimize import refit"
   ]
  },
  {
   "cell_type": "code",
   "execution_count": null,
   "metadata": {},
   "outputs": [],
   "source": [
    "# Settings\n",
    "fs = 2000\n",
    "n_seconds = 20\n",
    "freq = 20\n",
    "\n",
    "# Define signals\n",
    "sig_lo_rdsym = sim_oscillation(1, fs, freq, cycle='asine', rdsym=.2, phase='min')\n",
    "sig_hi_rdsym = sim_oscillation(1, fs, freq, cycle='asine', rdsym=.8, phase='min')\n",
    "\n",
    "sig_lo_rdsym *= .8\n",
    "sig_hi_rdsym *= .8\n",
    "\n",
    "sig_ap = sim_powerlaw(n_seconds, fs, exponent=-2)\n",
    "\n",
    "sig = np.zeros_like(sig_ap)\n",
    "\n",
    "# Sample defintions\n",
    "cyc_len = len(sig_lo_rdsym)\n",
    "cyc_starts = np.arange(0, len(sig), cyc_len)\n",
    "cyc_ends = np.arange(cyc_len, len(sig)+cyc_len, cyc_len)\n",
    "\n",
    "# Alternate between bursts of .2 rdsym, .8 rdsym, and no burst\n",
    "sig_zeros = np.zeros_like(sig_lo_rdsym)\n",
    "choices = [sig_zeros, sig_lo_rdsym, sig_zeros, sig_hi_rdsym]\n",
    "for start, end, ind in zip(cyc_starts, cyc_ends, cycle([0, 1, 2, 3])):\n",
    "    sig[start:end] = np.sum((choices[ind] * 0.5,\n",
    "                             sig_ap[start:end]), axis=0)\n",
    "\n",
    "sig_pe = sig - sig_ap"
   ]
  },
  {
   "cell_type": "code",
   "execution_count": null,
   "metadata": {},
   "outputs": [],
   "source": [
    "# Plot simulated signal\n",
    "times = np.arange(0, len(sig)/fs, 1/fs)\n",
    "\n",
    "xlim = (0, 20)\n",
    "plot_time_series(times, sig, title='Combined Signal', xlim=xlim)\n",
    "plot_time_series(times, sig_pe, title='Periodic Component', xlim=xlim)\n",
    "plot_time_series(times, sig_ap, title='Aperiodic Component', xlim=xlim)"
   ]
  },
  {
   "cell_type": "markdown",
   "metadata": {},
   "source": [
    "### Spectral Parametrization\n",
    "\n",
    "Identifying motifs requires spectral parameterization to define center frequencies and bandwidths. Note, a list of tuples, defining center frequencies and bandwidth may be alternatively used."
   ]
  },
  {
   "cell_type": "code",
   "execution_count": null,
   "metadata": {},
   "outputs": [],
   "source": [
    "# Spectral parametrization\n",
    "f_range = (1, 100)\n",
    "\n",
    "freqs, powers = compute_spectrum(sig, fs, f_range=f_range)\n",
    "\n",
    "fm = FOOOF()\n",
    "fm.fit(freqs, powers, freq_range=f_range)"
   ]
  },
  {
   "cell_type": "markdown",
   "metadata": {},
   "source": [
    "### Motif Extraction\n",
    "\n",
    "Motif extraction involves using Bycyles to segement cycles by defining extrema and zero-crossings. Cycles within a peaks bandwidth are resampled to the center freqeuency, allowing a mean motif to be found. Each segmented waveform found within the bandwidth of a spectral peak is resample to the center frequency, allowing a mean waveform to be associated with each peak. Multiple waveforms at a given peak are distinguished using k-means clustering. Correlated cycles are extracted and a refined motif is recomputed."
   ]
  },
  {
   "cell_type": "code",
   "execution_count": null,
   "metadata": {},
   "outputs": [],
   "source": [
    "# Motif extraction\n",
    "motif = Motif(\n",
    "    corr_thresh=.25,\n",
    "    min_clust_score=0.25,\n",
    "    min_clusters=1,\n",
    "    max_clusters=5,\n",
    "    min_n_cycles=10\n",
    ")\n",
    "\n",
    "motif.fit(fm, sig, fs)\n",
    "motif.plot(plot_fm_kwargs={'log_freqs': True})"
   ]
  },
  {
   "cell_type": "markdown",
   "metadata": {},
   "source": [
    "Alternatively, emd may be used to identify modes with power above the aperiodic fit. The hilbert-huang transform of the sum of these modes provide frequency ranges to fit the periodic spectral component. Since the HHT is insensitive to harmonics, a single peak will be fit at 20hz. This method also helps prevent overfitting power spectra.\n",
    "\n",
    "After refitting the spectra, motifs may be found from either the sum of modes or the original signal. Using the sum of modes helps limit the influence of the aperiodic component on motifs. This is especially useful for short duration oscillations."
   ]
  },
  {
   "cell_type": "code",
   "execution_count": null,
   "metadata": {
    "scrolled": false
   },
   "outputs": [],
   "source": [
    "# Refit specparam\n",
    "fm_refit, imf, pe_mask = refit(fm, sig, fs, f_range,\n",
    "                               power_thresh=0.01, energy_thresh=.1)\n",
    "\n",
    "# Recompute motifs\n",
    "motif = Motif(corr_thresh=.1)\n",
    "motif.fit(fm_refit, imf[pe_mask].sum(axis=0), fs, ttype='euclidean')\n",
    "motif.plot(plot_fm_kwargs={'log_freqs': True})"
   ]
  },
  {
   "cell_type": "code",
   "execution_count": null,
   "metadata": {},
   "outputs": [],
   "source": [
    "motif.sig = sig\n",
    "motif.plot_spectra(0)"
   ]
  },
  {
   "cell_type": "markdown",
   "metadata": {},
   "source": [
    "### Signal Decomposition\n",
    "\n",
    "Once motifs are found, they may be transformed to each individual cycles using a variety of methods, including affine, euclidean and others. The resulting transformation matrix describes cycle-by-cycle variation, assuming the cycles are not stationary. Transformed motifs provide an estimate of the periodic signal. The difference between transformed motifs and cycle waveforms provides an estimate of the aperiodic signal. Spectra of the decomposed signals may be used to validate the aperiodic/periodic separation in the frequency domain."
   ]
  },
  {
   "cell_type": "code",
   "execution_count": null,
   "metadata": {
    "tags": [
     "nbsphinx-thumbnail"
    ]
   },
   "outputs": [],
   "source": [
    "# Signal decomposition\n",
    "motif.sig = sig\n",
    "motif.decompose(ttype='euclidean')\n",
    "motif.plot_decompose(0)"
   ]
  },
  {
   "cell_type": "markdown",
   "metadata": {},
   "source": [
    "## LFP Data\n",
    "\n",
    "Motif extraction and signal decomposition will be applied to a pubically available LFP from the CRCNS HC-2 dataset (Mizuseki K, Sirota A, Pastalkova E, Buzsáki G., Neuron. 2009 Oct 29;64(2):267-80. (http://www.ncbi.nlm.nih.gov/pubmed/19874793)."
   ]
  },
  {
   "cell_type": "code",
   "execution_count": null,
   "metadata": {},
   "outputs": [],
   "source": [
    "# Normalize and filter the data\n",
    "f_range = (1, 60)\n",
    "sig_lfp = np.load('data/ca1.npy')\n",
    "fs = 1250\n",
    "\n",
    "sig_lfp = normalize_sig(sig_lfp, mean=0, variance=1)\n",
    "sig_lfp = filter_signal(sig_lfp, fs, 'bandpass', f_range, remove_edges=False)"
   ]
  },
  {
   "cell_type": "code",
   "execution_count": null,
   "metadata": {},
   "outputs": [],
   "source": [
    "# Spectral parameterization\n",
    "freqs, powers = compute_spectrum(sig_lfp, fs, f_range=f_range)\n",
    "fm = FOOOF(aperiodic_mode='knee')\n",
    "fm.fit(freqs, powers, f_range)"
   ]
  },
  {
   "cell_type": "code",
   "execution_count": null,
   "metadata": {},
   "outputs": [],
   "source": [
    "# Motif extraction\n",
    "motif_lfp = Motif(corr_thresh=.01, max_clusters=1,  var_thresh=0.01)\n",
    "motif_lfp.fit(fm, sig_lfp, fs)\n",
    "motif_lfp.plot(plot_fm_kwargs={'log_freqs': True}) "
   ]
  },
  {
   "cell_type": "markdown",
   "metadata": {},
   "source": [
    "Next, the spectrum is refit using the EMD/HHT approach. The spectral fit doesn't change, indicating the intial fit was appropriate. However, the modes provide signal to aid in refining the motif, removing the influences of frequency outside of the peak range."
   ]
  },
  {
   "cell_type": "code",
   "execution_count": null,
   "metadata": {},
   "outputs": [],
   "source": [
    "# EMD based spectral refitting\n",
    "fm_refit, imf, pe_mask = refit(fm, sig_lfp, fs, f_range,\n",
    "                               power_thresh=0.1, energy_thresh=1)\n",
    "\n",
    "# Motif extraction\n",
    "motif_lfp = Motif(corr_thresh=0.1, max_clusters=1,  var_thresh=0.01)\n",
    "motif_lfp.fit(fm_refit, imf[pe_mask].sum(axis=0), fs)\n",
    "motif_lfp.plot(plot_fm_kwargs={'log_freqs': True}) "
   ]
  },
  {
   "cell_type": "code",
   "execution_count": null,
   "metadata": {},
   "outputs": [],
   "source": [
    "# Signal Decomposition\n",
    "motif_lfp.sig = sig_lfp\n",
    "motif_lfp.decompose()\n",
    "motif_lfp.plot_decompose(0, xlim=(0, 10))"
   ]
  },
  {
   "cell_type": "code",
   "execution_count": null,
   "metadata": {},
   "outputs": [],
   "source": [
    "motif_lfp.plot_spectra(0, f_range=f_range)"
   ]
  },
  {
   "cell_type": "code",
   "execution_count": null,
   "metadata": {},
   "outputs": [],
   "source": [
    "# Plot the affine transformation parameters\n",
    "motif_lfp.plot_transform(0, xlim=(0, 10))"
   ]
  }
 ],
 "metadata": {
  "celltoolbar": "Tags",
  "kernelspec": {
   "display_name": "Python 3",
   "language": "python",
   "name": "python3"
  },
  "language_info": {
   "codemirror_mode": {
    "name": "ipython",
    "version": 3
   },
   "file_extension": ".py",
   "mimetype": "text/x-python",
   "name": "python",
   "nbconvert_exporter": "python",
   "pygments_lexer": "ipython3",
   "version": "3.8.10"
  }
 },
 "nbformat": 4,
 "nbformat_minor": 4
}
