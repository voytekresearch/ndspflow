{
 "cells": [
  {
   "cell_type": "markdown",
   "metadata": {},
   "source": [
    "# 3. Motifs\n",
    "\n",
    "In this tutorial, waveform motif identification will be demonstrated with simulated and ECoG data."
   ]
  },
  {
   "cell_type": "markdown",
   "metadata": {},
   "source": [
    "## Simulated Data\n",
    "\n",
    "First, a timeseries containing two bursty, asymmetrical sine waves with a 1/f background will be simulated."
   ]
  },
  {
   "cell_type": "code",
   "execution_count": null,
   "metadata": {},
   "outputs": [],
   "source": [
    "import numpy as np\n",
    "\n",
    "from neurodsp.sim import sim_variable_oscillation, sim_powerlaw\n",
    "from neurodsp.plts import plot_time_series, plot_power_spectra\n",
    "from neurodsp.spectral import compute_spectrum\n",
    "from neurodsp.filt import filter_signal\n",
    "from neurodsp.utils.norm import normalize_sig\n",
    "\n",
    "from fooof import FOOOF\n",
    "\n",
    "from ndspflow.motif import Motif"
   ]
  },
  {
   "cell_type": "code",
   "execution_count": null,
   "metadata": {},
   "outputs": [],
   "source": [
    "# Settings\n",
    "fs = 1000\n",
    "freq = 20\n",
    "n_cycles = 5\n",
    "n_choices = 80\n",
    "n_seconds = 1/freq * n_cycles * n_choices\n",
    "\n",
    "# Define signals\n",
    "sig_lo_rdsym = sim_variable_oscillation(None, fs, freq, cycle='asine',\n",
    "                                        rdsym=[.2] * n_cycles, phase='min')\n",
    "sig_hi_rdsym = sim_variable_oscillation(None, fs, freq, cycle='asine',\n",
    "                                        rdsym=[.8] * n_cycles, phase='min')                                  \n",
    "sig_ap = sim_powerlaw(n_seconds, fs, exponent=-2)\n",
    "sig = np.zeros_like(sig_ap)\n",
    "\n",
    "# Sample defintions\n",
    "cyc_len = len(sig_lo_rdsym)\n",
    "cyc_starts = np.arange(0, len(sig), cyc_len)\n",
    "cyc_ends = np.arange(cyc_len, len(sig)+cyc_len, cyc_len)\n",
    "\n",
    "# Randomly choose between .2 rdsym, .8 rdsym, or 1/f powerlaw\n",
    "choices = [np.zeros_like(sig_lo_rdsym), sig_lo_rdsym, sig_hi_rdsym]\n",
    "for start, end in zip(cyc_starts, cyc_ends):\n",
    "    choice = np.random.choice([0, 1, 2])\n",
    "    sig[start:end] = np.sum((choices[choice] * 0.5,\n",
    "                             sig_ap[start:end]), axis=0)\n",
    "\n",
    "sig_pe = sig - sig_ap"
   ]
  },
  {
   "cell_type": "code",
   "execution_count": null,
   "metadata": {},
   "outputs": [],
   "source": [
    "# Plot simulated signal\n",
    "times = np.arange(0, len(sig)/fs, 1/fs)\n",
    "\n",
    "plot_time_series(times, sig, title='Combined Signal', xlim=(0, 20))\n",
    "plot_time_series(times, sig_pe, title='Periodic Component', xlim=(0, 20))\n",
    "plot_time_series(times, sig_ap, title='Aperiodic Component', xlim=(0, 20))"
   ]
  },
  {
   "cell_type": "markdown",
   "metadata": {},
   "source": [
    "### Spectral Parametrization\n",
    "\n",
    "Identifying motifs requires spectral parameterization to define center frequencies and bandwidths. Note, a list of tuples, defining center frequencies and bandwidth may be alternatively used."
   ]
  },
  {
   "cell_type": "code",
   "execution_count": null,
   "metadata": {},
   "outputs": [],
   "source": [
    "# Spectral parametrization\n",
    "f_range = (1, 100)\n",
    "freqs, powers = compute_spectrum(sig, fs, f_range=f_range)\n",
    "\n",
    "fm = FOOOF(peak_width_limits=(2, 10), peak_threshold=2.5)\n",
    "fm.fit(freqs, powers, freq_range=f_range)"
   ]
  },
  {
   "cell_type": "markdown",
   "metadata": {},
   "source": [
    "### Motif Extraction\n",
    "\n",
    "Motif extraction involves using Bycyles to segement cycles by defining extrema and zero-crossings. Cycles within a peaks bandwidth are resampled to the center freqeuency, allowing a mean motif to be found. Each segmented waveform found within the bandwidth of a spectral peak is resample to the center frequency, allowing a mean waveform to be associated with each peak. Multiple waveforms at a given peak are distinguished using k-means clustering. Cycles highly correlated (r >= 0.8) with a motif are extracted and a refined motif is recomputed."
   ]
  },
  {
   "cell_type": "code",
   "execution_count": null,
   "metadata": {},
   "outputs": [],
   "source": [
    "# Motif extraction\n",
    "motif = Motif()\n",
    "motif.fit(fm, sig, fs)\n",
    "motif.plot()"
   ]
  },
  {
   "cell_type": "markdown",
   "metadata": {},
   "source": [
    "### Signal Decomposition\n",
    "\n",
    "Once motifs are found, they are affine transformed to each individual cycles. The resulting transformation matrix describes cycle-by-cycle variation. Transformed motifs provide an estimate of the periodic signal. The difference between transformed motifs and cycle waveforms provide an estimate of the aperiodic signal. Spectra of the decomposed signals may be used to validate the aperiodic/periodic separation in the frequency domain."
   ]
  },
  {
   "cell_type": "code",
   "execution_count": null,
   "metadata": {
    "tags": [
     "nbsphinx-thumbnail"
    ]
   },
   "outputs": [],
   "source": [
    "# Signal decomposition\n",
    "motif.decompose()\n",
    "motif.plot_decompose(0)"
   ]
  },
  {
   "cell_type": "code",
   "execution_count": null,
   "metadata": {},
   "outputs": [],
   "source": [
    "# Plot spectra of the decomposed signals\n",
    "motif.plot_spectra(0)"
   ]
  },
  {
   "cell_type": "markdown",
   "metadata": {},
   "source": [
    "## ECoG Data\n",
    "\n",
    "Motif extraction and signal decomposition will be applied to a pubically available EcoG recording. \n",
    "\n",
    "Fedele, T., Boran, E., Chirkov, V., Hilfiker, P., Grunwald, T., Stieglitz, L., . . . Sarnthein, J. (2021). Dataset of spiking and LFP activity invasively recorded in the human amygdala during aversive dynamic stimuli. Scientific Data, 8(1). doi:10.1038/s41597-020-00790-x"
   ]
  },
  {
   "cell_type": "code",
   "execution_count": null,
   "metadata": {},
   "outputs": [],
   "source": [
    "# Normalize and filter the data\n",
    "f_range = (1, 100)\n",
    "sig_ecog = np.load('data/ecog.npy')\n",
    "fs = 2000\n",
    "\n",
    "sig_ecog = normalize_sig(sig_ecog, mean=0, variance=1)\n",
    "sig_ecog = filter_signal(sig_ecog, fs, 'bandpass', f_range, remove_edges=False)"
   ]
  },
  {
   "cell_type": "code",
   "execution_count": null,
   "metadata": {},
   "outputs": [],
   "source": [
    "# Spectral parameterization\n",
    "freqs, powers = compute_spectrum(sig_ecog, fs, f_range=f_range)\n",
    "fm_ecog = FOOOF(peak_width_limits=(2, 8), peak_threshold=2, max_n_peaks=3, aperiodic_mode='knee')\n",
    "fm_ecog.fit(freqs, powers, f_range)"
   ]
  },
  {
   "cell_type": "code",
   "execution_count": null,
   "metadata": {},
   "outputs": [],
   "source": [
    "# Motif extraction\n",
    "motif_ecog = Motif(min_clust_score=.2, corr_thresh=.1, max_clusters=4)\n",
    "motif_ecog.fit(fm_ecog, sig_ecog, fs)\n",
    "motif_ecog.plot(plot_fm_kwargs={'log_freqs':True})"
   ]
  },
  {
   "cell_type": "code",
   "execution_count": null,
   "metadata": {},
   "outputs": [],
   "source": [
    "# Signal Decomposition\n",
    "motif_ecog.decompose()\n",
    "motif_ecog.plot_decompose(0, xlim=(20, 24))"
   ]
  },
  {
   "cell_type": "code",
   "execution_count": null,
   "metadata": {},
   "outputs": [],
   "source": [
    "# Plot decomposed spectra\n",
    "motif_ecog.plot_spectra(0)"
   ]
  },
  {
   "cell_type": "code",
   "execution_count": null,
   "metadata": {},
   "outputs": [],
   "source": [
    "# Plot the affine transformation parameters\n",
    "motif_ecog.plot_transform(0, xlim=(20, 24))"
   ]
  }
 ],
 "metadata": {
  "celltoolbar": "Tags",
  "kernelspec": {
   "display_name": "Python 3",
   "language": "python",
   "name": "python3"
  },
  "language_info": {
   "codemirror_mode": {
    "name": "ipython",
    "version": 3
   },
   "file_extension": ".py",
   "mimetype": "text/x-python",
   "name": "python",
   "nbconvert_exporter": "python",
   "pygments_lexer": "ipython3",
   "version": "3.8.10"
  }
 },
 "nbformat": 4,
 "nbformat_minor": 4
}
