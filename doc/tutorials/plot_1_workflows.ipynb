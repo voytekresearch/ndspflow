{
 "cells": [
  {
   "cell_type": "code",
   "execution_count": 1,
   "id": "3fee91ac",
   "metadata": {},
   "outputs": [],
   "source": [
    "import numpy as np\n",
    "from tqdm.notebook import tqdm\n",
    "\n",
    "from neurodsp.sim import sim_oscillation, sim_powerlaw\n",
    "from neurodsp.filt import filter_signal\n",
    "from neurodsp.spectral import compute_spectrum\n",
    "\n",
    "from fooof import FOOOF\n",
    "from bycycle import Bycycle\n",
    "\n",
    "from ndspflow import WorkFlow, Param"
   ]
  },
  {
   "cell_type": "markdown",
   "id": "04470a74",
   "metadata": {},
   "source": [
    "# WorkFlow Class\n",
    "\n",
    "`WorkFlow` objects wrap analyses that are typically functionally oriented (e.g. scipy functions) into a unified object. This provides reproducible analyses, a unified interface for a variety of DSP packages and models, and memory/computational efficiency. This class consist of three types of nodes:\n",
    "\n",
    "1. __Input__ : Defines the raw input numpy array, including simulations, reading BIDS structure, or custom classes or functions to read in raw binary data.\n",
    "    \n",
    "2. __Transformations__ : Defines the order of preprocessing operations used to manipulate the raw array input. Any function that accepts an y-array, and returns an y-array, with or without an x-array, are supported. This allows interfacing of signal processing packages, such as `scipy`, `numpy`, `mne`, `neurodsp`, etc. Examples: filtering, re-referencing, ICA, PSD, etc.\n",
    "\n",
    "3. __Models__ : Defines the model class that is used to fit or extract values out of the transformed array. Models should be initialized and contain a `.fit` method that accepts array definitions. Examples: `fooof`, `bycycle`, `sklearn.svm.SVC`. Model initalization should follow Scikit-Learn specifications, outlined [here](https://scikit-learn.org/stable/developers/develop.html#instantiation).\n",
    "\n",
    "\n",
    "__Forks__ : Forks refer to the splitting of the workflow into multiple streams. Forks may optionally have additional transforms (e.g. one model may want power spectra, whereas another requires time series).\n",
    "\n",
    "__Param__ : In addition to forks, the `Param` class may be used to make workflow parameters iterable, such that the workflow is re-ran across a grid of unique parameters. This may be used in place or in addition to forks.\n",
    "\n",
    "All steps in a `WorkFlow` are executed when the `.run()` method is called. "
   ]
  },
  {
   "cell_type": "code",
   "execution_count": 2,
   "id": "360d2ec1",
   "metadata": {},
   "outputs": [],
   "source": [
    "# Settings\n",
    "n_seconds = 10\n",
    "fs = 1000\n",
    "seeds = np.arange(4)"
   ]
  },
  {
   "cell_type": "markdown",
   "id": "cd2c5031",
   "metadata": {},
   "source": [
    "## 1. Input\n",
    "When initializing a `WorkFlow` object, arbitary keyword arguments may be passed that are required by one of its sub-classes. In the case below, we want to set the seeds attributes, required by the `Simulation` sub-class accesed via the `.simulate()` method. X-axis values may be optionally defined here, if required by the model passed to the `.fit()` method.\n",
    "\n",
    "Next we define the input array, here a series of simulations. Multiple simulation calls may be stacked to create the input array. Any simulation function may be used as long as a single array is returned. The way arrays are combined are defined by the `operator` argument. Alternatively, a single, custom simulation function could be constructed to combine arrays in arbitary ways. The general form for single simulation call follows: \n",
    "\n",
    "`.simulate(func, *args, operator, **kwargs)`\n",
    "\n",
    "Alternatively, a bids directory may be loaded or a custom signal reader may be used (todo: see here)."
   ]
  },
  {
   "cell_type": "code",
   "execution_count": 3,
   "id": "f6405ecf",
   "metadata": {},
   "outputs": [],
   "source": [
    "# Iniatlize a simulation workflow with random seeds\n",
    "wf = WorkFlow(seeds=seeds)\n",
    "\n",
    "# Define np.array input\n",
    "wf.simulate(sim_powerlaw, n_seconds, fs, exponent=-2)\n",
    "wf.simulate(sim_oscillation, n_seconds, fs, freq=10, operator='add')\n",
    "wf.simulate(sim_oscillation, n_seconds, fs, freq=20, operator='add')"
   ]
  },
  {
   "cell_type": "markdown",
   "id": "bedca62f",
   "metadata": {},
   "source": [
    "## 2. Transform\n",
    "The input array may transformed using any function, a single array should be returned for y-values (`return y`). Optionally, x-values may be returned (`return x, y`), such as when computing PSD from a time series. Transformation calls may also be stacked to define a series of sequential transformations (e.g. pre-processing steps, below a filter and spectral function are used). The `axis` argument is used for ndarrays with greater than two dimensions and specifies which axis to iterate over to apply the transform. The general form follows: \n",
    "\n",
    "`.transform(func, *args, axis=None, **kwargs)`.\n",
    "\n",
    "Where `*args` and `**kwargs` are passed through to `func`."
   ]
  },
  {
   "cell_type": "code",
   "execution_count": 4,
   "id": "3a8a9326",
   "metadata": {},
   "outputs": [],
   "source": [
    "# Transformations\n",
    "wf.transform(filter_signal, fs, 'lowpass', 200, remove_edges=False) # -> returns y\n",
    "wf.transform(compute_spectrum, fs) # -> returns x, y"
   ]
  },
  {
   "cell_type": "markdown",
   "id": "6fc6783e",
   "metadata": {},
   "source": [
    "## 3. Model\n",
    "\n",
    "After loading or simulating data and applying transformations, models may be fit. Below a spectral model is fit, one per simulation."
   ]
  },
  {
   "cell_type": "code",
   "execution_count": 5,
   "id": "5ea565fc-41c2-4a1f-9c78-611fc4115bdd",
   "metadata": {},
   "outputs": [],
   "source": [
    "wf.fit(FOOOF(verbose=False, max_n_peaks=1), (1, 100))"
   ]
  },
  {
   "cell_type": "markdown",
   "id": "f447c7ff-c67a-44e7-9e60-7940916ce58d",
   "metadata": {},
   "source": [
    "## 4. Execute\n",
    "\n",
    "Lastly, the `WorkFlow` is executed in parallel using the `run` method.  Results are accesible via the `.results` attirbute. The order of models in `.results` maintains the in the same order as the `WorkFlow` was defined. Here the first index of `.results` refers to the simulation seed (in order of `seeds` above) and the second index refers to the order of the `.fit` calls above."
   ]
  },
  {
   "cell_type": "code",
   "execution_count": 6,
   "id": "606cb96f-fc74-47d2-907b-e2a92190cdcd",
   "metadata": {},
   "outputs": [
    {
     "data": {
      "text/plain": [
       "array([<fooof.objs.fit.FOOOF object at 0x105e6a7d0>,\n",
       "       <fooof.objs.fit.FOOOF object at 0x105e6a7d0>,\n",
       "       <fooof.objs.fit.FOOOF object at 0x105e6a7d0>,\n",
       "       <fooof.objs.fit.FOOOF object at 0x105e6a7d0>], dtype=object)"
      ]
     },
     "execution_count": 6,
     "metadata": {},
     "output_type": "execute_result"
    }
   ],
   "source": [
    "wf.run(n_jobs=1)\n",
    "wf.results"
   ]
  },
  {
   "cell_type": "markdown",
   "id": "14eaa366-0026-41af-90cc-6379a29782a2",
   "metadata": {},
   "source": [
    "### Returning Model Attributes\n",
    "\n",
    "The the `return_attrs` arguments is used to transfer any attribute in the model class to the results attribute of the WorkFlow class. This is more memory efficienct as copies of PSDs, time series, and all other model class attributes are not passed to the results attribute.\n",
    "\n",
    "If `return_attrs` is a string or list of strings, these attribues are expected to exist in each model. A 2d list of return_attrs strings provides the greatest flexibility, pairing each list of attributes to each model."
   ]
  },
  {
   "cell_type": "code",
   "execution_count": 7,
   "id": "de9cf916-d164-4389-bf93-febeab5e655f",
   "metadata": {},
   "outputs": [
    {
     "data": {
      "text/plain": [
       "array([{'peak_params_': array([[19.99509317,  4.05606811,  1.99149562]]), 'aperiodic_params_': array([-0.66671812,  2.25376379]), 'r_squared_': 0.848126504332892},\n",
       "       {'peak_params_': array([[20.00241904,  4.24312291,  2.00674921]]), 'aperiodic_params_': array([-0.6486932 ,  2.37561149]), 'r_squared_': 0.8505462522147984},\n",
       "       {'peak_params_': array([[20.01927093,  3.77874737,  1.96829199]]), 'aperiodic_params_': array([-0.3886868 ,  2.28763031]), 'r_squared_': 0.8714572093222844},\n",
       "       {'peak_params_': array([[20.04497602,  4.34117753,  2.05505677]]), 'aperiodic_params_': array([-0.80587386,  2.33826881]), 'r_squared_': 0.8402512604241956}],\n",
       "      dtype=object)"
      ]
     },
     "execution_count": 7,
     "metadata": {},
     "output_type": "execute_result"
    }
   ],
   "source": [
    "# Execute workflow\n",
    "attrs = [\n",
    "    *[['peak_params_', 'aperiodic_params_', 'r_squared_']] * 2, # FOOOF attributes\n",
    "]\n",
    "\n",
    "# Rerun the workflow\n",
    "wf.run(attrs=attrs)\n",
    "\n",
    "wf.results"
   ]
  },
  {
   "cell_type": "markdown",
   "id": "2030f78a-ad16-471c-9ff3-a8f950aa94bf",
   "metadata": {},
   "source": [
    "# Advanced Usage"
   ]
  },
  {
   "cell_type": "markdown",
   "id": "b405e57b-e193-42b0-b064-184406e0f253",
   "metadata": {},
   "source": [
    "## 4. Forks\n",
    "The `.fork(index)` method is used to split the workflow into sub-workflows, allowing unique transformation and/or models to be used with a common, inital array. The first `.fork(0)` called with a unique index argument creates a save state that may be restored later. Subsequent `.fork(0)` calls restores that state of the array at the time of the inital `.fork(0)`. \n",
    "\n",
    "New fork calls (e.g. `.fork(1)`) creates a new save state that can be later restored upon subsequent calls of `.fork(1)`. In general, a unique index passed to `.fork(ind)` creates a new save state, and an existing index restores the corresponding save state at the time of the first call. Below, we fork the workflow into sub-flows that end on two sets of `FOOOF` and `Bycycle` models. Note that the `.fit()` calls belows does not run the workflow and instead adds fitting the model to the call stack. Once the `WorkFlow` is complete, the `.run()` method is used to execute the workflow, as shown in the next section."
   ]
  },
  {
   "cell_type": "code",
   "execution_count": 8,
   "id": "381b3e72",
   "metadata": {},
   "outputs": [],
   "source": [
    "# Recreate the base simulation workflow all\n",
    "#   forks below start with the array following the transform method call\n",
    "wf = WorkFlow(seeds=seeds)\n",
    "\n",
    "wf.simulate(sim_powerlaw, n_seconds, fs, exponent=-2)\n",
    "wf.simulate(sim_oscillation, n_seconds, fs, freq=10, operator='add')\n",
    "wf.simulate(sim_oscillation, n_seconds, fs, freq=20, operator='add')\n",
    "\n",
    "wf.transform(filter_signal, fs, 'lowpass', 200, remove_edges=False)"
   ]
  },
  {
   "cell_type": "code",
   "execution_count": 9,
   "id": "e7a29be3-7017-480c-be42-8a0e7c6686ec",
   "metadata": {},
   "outputs": [],
   "source": [
    "# Create a fork that can be used to restore the state of the simulated arrays,\n",
    "#   allowing modifications.\n",
    "wf.fork(0)\n",
    "wf.transform(compute_spectrum, fs)\n",
    "\n",
    "# An nested fork allows various spectral models to be fit\n",
    "#   here, max_n_peaks is varied.\n",
    "wf.fork(1)\n",
    "wf.fit(FOOOF(verbose=False, max_n_peaks=1), (1, 100))\n",
    "\n",
    "wf.fork(1)\n",
    "wf.fit(FOOOF(verbose=False, max_n_peaks=2), (1, 100))"
   ]
  },
  {
   "cell_type": "code",
   "execution_count": 10,
   "id": "f7f5af04",
   "metadata": {},
   "outputs": [],
   "source": [
    "# Restore that state to the simulations and fit a different model\n",
    "wf.fork(0)\n",
    "\n",
    "# Bycycle sub-workflows\n",
    "wf.fork(2)\n",
    "wf.fit(Bycycle(thresholds={'monotonicity': 0.5}), fs, (1, 30))\n",
    "\n",
    "wf.fork(2)\n",
    "wf.fit(Bycycle(thresholds={'monotonicity': 0.9}), fs, (1, 30))"
   ]
  },
  {
   "cell_type": "code",
   "execution_count": 11,
   "id": "8190cc28-ec03-49fa-894e-1dee30795081",
   "metadata": {},
   "outputs": [
    {
     "data": {
      "text/plain": [
       "array([[<fooof.objs.fit.FOOOF object at 0x166c36550>,\n",
       "        <fooof.objs.fit.FOOOF object at 0x16559f9d0>,\n",
       "        <bycycle.objs.fit.Bycycle object at 0x166c37110>,\n",
       "        <bycycle.objs.fit.Bycycle object at 0x166c1a010>],\n",
       "       [<fooof.objs.fit.FOOOF object at 0x166c36550>,\n",
       "        <fooof.objs.fit.FOOOF object at 0x16559f9d0>,\n",
       "        <bycycle.objs.fit.Bycycle object at 0x166c37110>,\n",
       "        <bycycle.objs.fit.Bycycle object at 0x166c1a010>],\n",
       "       [<fooof.objs.fit.FOOOF object at 0x166c36550>,\n",
       "        <fooof.objs.fit.FOOOF object at 0x16559f9d0>,\n",
       "        <bycycle.objs.fit.Bycycle object at 0x166c37110>,\n",
       "        <bycycle.objs.fit.Bycycle object at 0x166c1a010>],\n",
       "       [<fooof.objs.fit.FOOOF object at 0x166c36550>,\n",
       "        <fooof.objs.fit.FOOOF object at 0x16559f9d0>,\n",
       "        <bycycle.objs.fit.Bycycle object at 0x166c37110>,\n",
       "        <bycycle.objs.fit.Bycycle object at 0x166c1a010>]], dtype=object)"
      ]
     },
     "execution_count": 11,
     "metadata": {},
     "output_type": "execute_result"
    }
   ],
   "source": [
    "# Run workflow\n",
    "wf.run(n_jobs=1)\n",
    "wf.results"
   ]
  },
  {
   "cell_type": "code",
   "execution_count": 12,
   "id": "def47e54",
   "metadata": {
    "tags": [
     "nbsphinx-thumbnail"
    ]
   },
   "outputs": [
    {
     "data": {
      "image/png": "[encoded data removed]",
      "text/plain": [
       "<Figure size 1200x600 with 1 Axes>"
      ]
     },
     "metadata": {},
     "output_type": "display_data"
    }
   ],
   "source": [
    "# Plot the workflow\n",
    "wf.plot()"
   ]
  },
  {
   "cell_type": "markdown",
   "id": "05725603-e9d1-4ee9-8912-6e99b2544bae",
   "metadata": {},
   "source": [
    "## WorkFlow Parameterization\n",
    "\n",
    "The above workflow may be written more concisely with the `Param` class. This marks parameters that should be iterated over to create a grid of all combinations.\n",
    "\n",
    "The use of `Param` with model initalization prevents type checking or parameter manipulations. Instead, type checking or computed parameters should instead be peformed at fit time, after the values of `Param` have been unpacked. To use `Param`, the model's init must only set parameters, similar to Sci-kit Learn's API requirements. This states that for custom classifiers or model, \"there should be no logic, not even input validation, and the parameters should not be changed.\". See [here](https://scikit-learn.org/stable/developers/develop.html#instantiation) for init specifications."
   ]
  },
  {
   "cell_type": "code",
   "execution_count": 13,
   "id": "ca4eb4d8-5498-47f2-a684-d88d317a4ba4",
   "metadata": {},
   "outputs": [
    {
     "name": "stderr",
     "output_type": "stream",
     "text": [
      "/Users/ryanhammonds/projects/ndspflow/.env/lib/python3.11/site-packages/bycycle/objs/fit.py:31: UserWarning: \n",
      "                No burst detection thresholds are provided. This is not recommended. Please\n",
      "                inspect your data and choose appropriate parameters for 'thresholds'.\n",
      "                Default burst detection parameters are likely not well suited for your\n",
      "                desired application.\n",
      "                \n",
      "  warnings.warn(\"\"\"\n"
     ]
    },
    {
     "name": "stdout",
     "output_type": "stream",
     "text": [
      "(4, 2, 2)\n"
     ]
    },
    {
     "data": {
      "text/plain": [
       "array([[[<fooof.objs.fit.FOOOF object at 0x16252b010>,\n",
       "         <bycycle.objs.fit.Bycycle object at 0x166cf1050>],\n",
       "        [<fooof.objs.fit.FOOOF object at 0x166e05b10>,\n",
       "         <bycycle.objs.fit.Bycycle object at 0x166c07010>]],\n",
       "\n",
       "       [[<fooof.objs.fit.FOOOF object at 0x166c80350>,\n",
       "         <bycycle.objs.fit.Bycycle object at 0x166cf1c90>],\n",
       "        [<fooof.objs.fit.FOOOF object at 0x166c62450>,\n",
       "         <bycycle.objs.fit.Bycycle object at 0x163d51050>]],\n",
       "\n",
       "       [[<fooof.objs.fit.FOOOF object at 0x166e06790>,\n",
       "         <bycycle.objs.fit.Bycycle object at 0x166c6ea90>],\n",
       "        [<fooof.objs.fit.FOOOF object at 0x166cf7350>,\n",
       "         <bycycle.objs.fit.Bycycle object at 0x166e06c50>]],\n",
       "\n",
       "       [[<fooof.objs.fit.FOOOF object at 0x166e32750>,\n",
       "         <bycycle.objs.fit.Bycycle object at 0x166cf5350>],\n",
       "        [<fooof.objs.fit.FOOOF object at 0x166c1ae10>,\n",
       "         <bycycle.objs.fit.Bycycle object at 0x166c37b90>]]], dtype=object)"
      ]
     },
     "execution_count": 13,
     "metadata": {},
     "output_type": "execute_result"
    }
   ],
   "source": [
    "# Initialize\n",
    "wf = WorkFlow(seeds=seeds)\n",
    "\n",
    "# 1. Define np.array input\n",
    "wf.simulate(sim_powerlaw, n_seconds, fs, exponent=-2)\n",
    "wf.simulate(sim_oscillation, n_seconds, fs, freq=10, operator='add')\n",
    "wf.simulate(sim_oscillation, n_seconds, fs, freq=20, operator='add')\n",
    "\n",
    "# 2. Transform input\n",
    "wf.transform(filter_signal, fs, 'lowpass', 200, remove_edges=False)\n",
    "\n",
    "# 3. Compute PSD and fit\n",
    "wf.fork(0)\n",
    "wf.transform(compute_spectrum, fs)\n",
    "wf.fit(FOOOF(verbose=False, max_n_peaks=Param([1, 2])), (1, 100))\n",
    "\n",
    "# 4. Fit time domain\n",
    "wf.fork(0)\n",
    "wf.fit(\n",
    "    Bycycle(thresholds=Param([\n",
    "        {'monotonicity_threshold': 0.5}, \n",
    "        {'monotonicity_threshold': 0.9}\n",
    "    ])),\n",
    "    fs, (5, 25)\n",
    ")\n",
    "\n",
    "wf.run(n_jobs=1, parameterize=True)\n",
    "\n",
    "print(wf.results.shape) # (n_simulations, n_models, n_params)\n",
    "\n",
    "wf.results"
   ]
  }
 ],
 "metadata": {
  "kernelspec": {
   "display_name": "Python 3 (ipykernel)",
   "language": "python",
   "name": "python3"
  },
  "language_info": {
   "codemirror_mode": {
    "name": "ipython",
    "version": 3
   },
   "file_extension": ".py",
   "mimetype": "text/x-python",
   "name": "python",
   "nbconvert_exporter": "python",
   "pygments_lexer": "ipython3",
   "version": "3.11.4"
  }
 },
 "nbformat": 4,
 "nbformat_minor": 5
}
