{
 "cells": [
  {
   "cell_type": "code",
   "execution_count": 1,
   "id": "69325a32-e062-487e-bdfb-11465fb6e1e8",
   "metadata": {},
   "outputs": [],
   "source": [
    "import os\n",
    "from tqdm.notebook import tqdm\n",
    "\n",
    "import openneuro\n",
    "\n",
    "from ndspflow.workflows.workflow import WorkFlow\n",
    "\n",
    "from neurodsp.filt import filter_signal\n",
    "from neurodsp.spectral import compute_spectrum\n",
    "\n",
    "from fooof import FOOOF, FOOOFGroup\n",
    "from bycycle import Bycycle"
   ]
  },
  {
   "cell_type": "markdown",
   "id": "ce2ce3e1-df31-44fe-a2d3-703ff35c952f",
   "metadata": {},
   "source": [
    "# BIDS WorkFlow\n",
    "\n",
    "Below, we fetch a BIDS dataset using the openneuro cli. Then define and execute the following workflow:\n",
    "\n",
    "1. Load the BIDS directory using MNE BIDS\n",
    "2. Apply custom functions to select channels and epoch the signal\n",
    "3. Low-pass filter with neurodsp\n",
    "4. Fit FOOOF\n",
    "5. Fit Bycycle"
   ]
  },
  {
   "cell_type": "code",
   "execution_count": 2,
   "id": "0014d99f-d902-47cb-8cb0-d9e6c05b1e4f",
   "metadata": {
    "tags": []
   },
   "outputs": [],
   "source": [
    "%%capture\n",
    "dataset = 'ds003844'\n",
    "include = ['sub-RESP0059/ses-SITUATION1A', 'sub-RESP0280/ses-SITUATION1A']\n",
    "\n",
    "# Create BIDs folder\n",
    "bids_path = f'{os.getcwd()}/bids'\n",
    "\n",
    "if not os.path.isdir(bids_path):\n",
    "    os.makedirs(bids_path)\n",
    "    \n",
    "openneuro.download(dataset=dataset, target_dir=bids_path, include=include)"
   ]
  },
  {
   "cell_type": "code",
   "execution_count": 3,
   "id": "57bb12df-fbe9-4d7c-bb35-63c652d9e1ef",
   "metadata": {},
   "outputs": [],
   "source": [
    "def select_channels(y_array, channels):\n",
    "    \"\"\"Select sub-set of channels.\"\"\"\n",
    "    inds = [ind for ind, ch in enumerate(channels)\n",
    "            if ch in channels]\n",
    "    \n",
    "    return y_array[inds, :]\n",
    "    \n",
    "def epoch(y_array, n_epochs, epoch_len):\n",
    "    \"\"\"Epoch function.\"\"\"\n",
    "    y_array = y_array[:, :int(n_epochs) * epoch_len]\n",
    "    y_array = y_array.reshape(-1, epoch_len)\n",
    "    \n",
    "    return y_array"
   ]
  },
  {
   "cell_type": "code",
   "execution_count": 4,
   "id": "718f6c74-4f01-4c92-a932-5de83a5f568f",
   "metadata": {},
   "outputs": [
    {
     "data": {
      "application/vnd.jupyter.widget-view+json": {
       "model_id": "aec95c12e8194c77a75ae32dc3bc9e4c",
       "version_major": 2,
       "version_minor": 0
      },
      "text/plain": [
       "Running Workflow:   0%|          | 0/2 [00:00<?, ?it/s]"
      ]
     },
     "metadata": {},
     "output_type": "display_data"
    }
   ],
   "source": [
    "wf = WorkFlow(bids_path=bids_path, session='SITUATION1A', task='acute')\n",
    "\n",
    "wf.read_bids(subject='sub-RESP0059', allow_ragged=True)\n",
    "\n",
    "# Custom transforms\n",
    "wf.transform(select_channels, ['Gr16', 'Gr17'])\n",
    "wf.transform(epoch, 2, 5000)\n",
    "wf.transform(filter_signal, 'self.fs', 'lowpass', 200, remove_edges=False)\n",
    "\n",
    "wf.fork(0)\n",
    "wf.transform(compute_spectrum, 'self.fs')\n",
    "wf.fit(FOOOF(verbose=False, max_n_peaks=5), (1, 100), axis=-1)\n",
    "\n",
    "wf.fork(0)\n",
    "wf.fit(Bycycle(), 'self.fs', (50, 100), axis=-1)\n",
    "\n",
    "wf.run(n_jobs=1, progress=tqdm)"
   ]
  },
  {
   "cell_type": "code",
   "execution_count": 5,
   "id": "690f0287-2a50-4a1a-84d4-fdd73275c8b9",
   "metadata": {},
   "outputs": [
    {
     "data": {
      "text/plain": [
       "[[[<fooof.objs.fit.FOOOF at 0x7f522ab29d60>,\n",
       "   <fooof.objs.fit.FOOOF at 0x7f522ab32c40>,\n",
       "   <fooof.objs.fit.FOOOF at 0x7f522aac96a0>,\n",
       "   <fooof.objs.fit.FOOOF at 0x7f522aac9bb0>],\n",
       "  [<bycycle.objs.fit.Bycycle at 0x7f522aae0100>,\n",
       "   <bycycle.objs.fit.Bycycle at 0x7f522aae05b0>,\n",
       "   <bycycle.objs.fit.Bycycle at 0x7f522aae0ac0>,\n",
       "   <bycycle.objs.fit.Bycycle at 0x7f522aae0f70>]],\n",
       " [[<fooof.objs.fit.FOOOF at 0x7f522ab32ac0>,\n",
       "   <fooof.objs.fit.FOOOF at 0x7f5294536eb0>,\n",
       "   <fooof.objs.fit.FOOOF at 0x7f522aac9970>,\n",
       "   <fooof.objs.fit.FOOOF at 0x7f522aae0e50>],\n",
       "  [<bycycle.objs.fit.Bycycle at 0x7f522aaee610>,\n",
       "   <bycycle.objs.fit.Bycycle at 0x7f522aaee7f0>,\n",
       "   <bycycle.objs.fit.Bycycle at 0x7f522aaee9d0>,\n",
       "   <bycycle.objs.fit.Bycycle at 0x7f522aaeebb0>]]]"
      ]
     },
     "execution_count": 5,
     "metadata": {},
     "output_type": "execute_result"
    }
   ],
   "source": [
    "wf.results"
   ]
  }
 ],
 "metadata": {
  "kernelspec": {
   "display_name": "Python 3",
   "language": "python",
   "name": "python3"
  },
  "language_info": {
   "codemirror_mode": {
    "name": "ipython",
    "version": 3
   },
   "file_extension": ".py",
   "mimetype": "text/x-python",
   "name": "python",
   "nbconvert_exporter": "python",
   "pygments_lexer": "ipython3",
   "version": "3.8.10"
  }
 },
 "nbformat": 4,
 "nbformat_minor": 5
}
