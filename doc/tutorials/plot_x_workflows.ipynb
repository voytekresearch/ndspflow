{
 "cells": [
  {
   "cell_type": "code",
   "execution_count": 1,
   "id": "ab6195c1-57b3-4409-a586-4ff8dc48f97d",
   "metadata": {},
   "outputs": [],
   "source": [
    "import numpy as np\n",
    "from tqdm.notebook import tqdm\n",
    "\n",
    "from neurodsp.sim import sim_oscillation, sim_powerlaw\n",
    "from neurodsp.filt import filter_signal\n",
    "from neurodsp.spectral import compute_spectrum\n",
    "\n",
    "from fooof import FOOOF\n",
    "from bycycle import Bycycle\n",
    "\n",
    "from ndspflow.core.workflow import WorkFlow"
   ]
  },
  {
   "cell_type": "markdown",
   "id": "40ee01d5-0478-42df-92c4-d9769c9efb37",
   "metadata": {},
   "source": [
    "# WorkFlow Class\n",
    "\n",
    "`WorkFlow` objects wrap analyses that are typically functionally oriented into a unified object. This provides reproducible analyses, a unified interface for a variety of DSP packages and models, and memory/computational efficiency. This class consist of three types of nodes:\n",
    "\n",
    "1. __Input__ : Defines the raw input numpy array, including simulations, reading BIDS structure, or custom classes or functions to read in raw binary data.\n",
    "    \n",
    "2. __Transformations__ : Defines the order of preprocessing operations used to manipulate the raw array input. Any function that accepts an y-array, and returns an y-array, with or without an x-array, are supported. This allows interfacing of signal processing packages, such as `scipy`, `numpy`, `mne`, `neurodsp`, etc. Examples: filtering, re-referencing, ICA, frequency domain transformations, etc.\n",
    "\n",
    "3. __Models__ : Defines the model class that is used to fit or extract values out of the transformed array. Models should be initialized and contain a `fit` method that accepts array definitions. Examples: `fooof`, `bycycle`.\n",
    "\n",
    "__Forks__ : Forks refer to the splitting of the workflow into multiple streams. Forks may optionally have additional transforms (e.g. one model may want power spectra, whereas another requires time series)."
   ]
  },
  {
   "cell_type": "markdown",
   "id": "23eb4f6d-49be-48fb-b811-ec02c41cfd48",
   "metadata": {},
   "source": [
    "## Initialization\n",
    "\n",
    "When initializing a `WorkFlow` object, arbitary keyword arguments may be passed that are required by one of its sub-classes. In the case below, we want to set the seeds attributes, required by the `Simulation` sub-class accesed via the `.simulate()` method. X-axis values may be optionally defined here, if required by the model passed to the `.fit()` method."
   ]
  },
  {
   "cell_type": "code",
   "execution_count": 2,
   "id": "97092715-df1c-44c0-a08f-fe2a0eaba4cf",
   "metadata": {},
   "outputs": [],
   "source": [
    "# Settings\n",
    "n_seconds = 10\n",
    "fs = 1000\n",
    "seeds=np.arange(4)\n",
    "\n",
    "# Initialize\n",
    "wf = WorkFlow(seeds=seeds)"
   ]
  },
  {
   "cell_type": "markdown",
   "id": "790eead6-bc8c-4a61-ac5c-b327100c2330",
   "metadata": {},
   "source": [
    "## 1. Input\n",
    "Next we define the input array, here a series of simulations. Multiple simulations calls may be stacked to create the input array. Any simulation function may be used as long as a single array is returned. The way arrays are combined are defined by the `operator` argument. The general form follows: \n",
    "\n",
    "`.simulate(func, *args, operator, **kwargs)`"
   ]
  },
  {
   "cell_type": "code",
   "execution_count": 3,
   "id": "d8a26cd7-4f1e-461e-9d43-5ce010ac06d7",
   "metadata": {},
   "outputs": [],
   "source": [
    "# 1. Define np.array input\n",
    "wf.simulate(sim_powerlaw, n_seconds, fs, exponent=-2)\n",
    "wf.simulate(sim_oscillation, n_seconds, fs, freq=10, operator='add')\n",
    "wf.simulate(sim_oscillation, n_seconds, fs, freq=20, operator='add')"
   ]
  },
  {
   "cell_type": "markdown",
   "id": "14a7861b-f9a7-45ba-8993-ea6373aa8177",
   "metadata": {},
   "source": [
    "## 2. Transform\n",
    "The input array may transformed using any function, as long as a single array is returned. Transformation calls may also be stacked to define a series of transformations (e.g. pre-processing steps). The `axis` argument is used for ndarrays with greater than two dimensions and specifies which axis to iterate over to apply the transform. The general form follows: \n",
    "\n",
    "`.transform(func, *args, axis=None, **kwargs)`."
   ]
  },
  {
   "cell_type": "code",
   "execution_count": 4,
   "id": "e52e66f0-f6eb-46d4-9c5c-db1a8ced08b6",
   "metadata": {},
   "outputs": [],
   "source": [
    "# 2. Transform input\n",
    "wf.transform(filter_signal, fs, 'lowpass', 300, remove_edges=False)"
   ]
  },
  {
   "cell_type": "markdown",
   "id": "d673e215-4ab0-427d-a19c-67290e4a9939",
   "metadata": {},
   "source": [
    "## 3. Model\n",
    "\n",
    "Up to this point, all sub-workflows share the same set of simulations (4 unique seeds) and the 300 Hz low-pass filter. The `.fork(index)` method is used to split the workflow into sub-workflows. The first `.fork(0)` called with a unique index argument creates a save state at the point of the call. Subsequent `.fork(0)` calls restore that state at the time of the inital `.fork` call before proceding. New fork calls (e.g. `.fork(1)`) creates a new save state that can be later restored upon subsequent calls of `.fork(1)`. In general, a unique index passed to `.fork(ind)` creates a new save state, and an existing index restores the corresponding save state at the time of the first call. Below, we fork the workflow into sub-flows that end on two sets of `FOOOF` and `Bycycle` models. Note that the `.fit()` calls belows does not run the workflow and instead adds fitting the model to the call stack. Once the `WorkFlow` is complete, the `.run()` method is used to execute the workflow, as shown in the next section."
   ]
  },
  {
   "cell_type": "code",
   "execution_count": 5,
   "id": "9dd6b217-ea54-40cf-b1c1-cc888f8642c7",
   "metadata": {},
   "outputs": [],
   "source": [
    "# Create a fork that references the transform in the previous cell\n",
    "wf.fork(0)\n",
    "\n",
    "# All FOOOF sub-workflows share these transformations\n",
    "wf.transform(filter_signal, fs, 'lowpass', 200, remove_edges=False)\n",
    "wf.transform(compute_spectrum, fs)\n",
    "\n",
    "# FOOOF sub-workflows\n",
    "wf.fork(1)\n",
    "wf.fit(FOOOF(verbose=False, max_n_peaks=2), (1, 100))\n",
    "\n",
    "wf.fork(1)\n",
    "wf.fit(FOOOF(verbose=False, max_n_peaks=2), (1, 200))"
   ]
  },
  {
   "cell_type": "code",
   "execution_count": 6,
   "id": "831e0c1f-7219-4713-a737-898d1cfb5479",
   "metadata": {},
   "outputs": [],
   "source": [
    "# Restore that state after the first filter, two code cells above\n",
    "wf.fork(0)\n",
    "\n",
    "# All Bycycle sub-workflows  share these transformations\n",
    "wf.transform(filter_signal, fs, 'lowpass', 100, remove_edges=False)\n",
    "\n",
    "# Bycycle sub-workflows\n",
    "wf.fork(2)\n",
    "wf.fit(Bycycle(), fs, (1, 100))\n",
    "\n",
    "wf.fork(2)\n",
    "wf.fit(Bycycle(), fs, (1, 200))"
   ]
  },
  {
   "cell_type": "code",
   "execution_count": 7,
   "id": "2daede7f-56e5-4f24-bc1f-31c9168c9857",
   "metadata": {},
   "outputs": [
    {
     "data": {
      "image/png": "[encoded data removed]",
      "text/plain": [
       "<Figure size 864x432 with 1 Axes>"
      ]
     },
     "metadata": {},
     "output_type": "display_data"
    }
   ],
   "source": [
    "# Plot the workflow\n",
    "wf.plot()"
   ]
  },
  {
   "cell_type": "markdown",
   "id": "dfa26b53-d120-4b53-bddf-130510d675aa",
   "metadata": {},
   "source": [
    "## Execute\n",
    "\n",
    "Lastly, the `WorkFlow` is executed in parallel using the `run` method.  Results are accesible via the `.results` attirbute. The order of models in `.results` maintains the in the same order as the `WorkFlow` was defined. Here the first index of `.results` refers to the simulation seed (in order of `seeds` above) and the second index refers to the order of the `.fit` calls above."
   ]
  },
  {
   "cell_type": "code",
   "execution_count": 8,
   "id": "5530db55-18f6-4504-b0f3-2bd6c6dbc746",
   "metadata": {},
   "outputs": [
    {
     "data": {
      "text/plain": [
       "[[<fooof.objs.fit.FOOOF at 0x7f1d4171ee50>,\n",
       "  <fooof.objs.fit.FOOOF at 0x7f1d417235e0>,\n",
       "  <bycycle.objs.fit.Bycycle at 0x7f1d41723a90>,\n",
       "  <bycycle.objs.fit.Bycycle at 0x7f1d41723f40>],\n",
       " [<fooof.objs.fit.FOOOF at 0x7f1d4171ebe0>,\n",
       "  <fooof.objs.fit.FOOOF at 0x7f1d41723700>,\n",
       "  <bycycle.objs.fit.Bycycle at 0x7f1d83d8e4f0>,\n",
       "  <bycycle.objs.fit.Bycycle at 0x7f1d83d8e6d0>],\n",
       " [<fooof.objs.fit.FOOOF at 0x7f1d4171eeb0>,\n",
       "  <fooof.objs.fit.FOOOF at 0x7f1d83d8e370>,\n",
       "  <bycycle.objs.fit.Bycycle at 0x7f1d83d8e910>,\n",
       "  <bycycle.objs.fit.Bycycle at 0x7f1d83d8eaf0>],\n",
       " [<fooof.objs.fit.FOOOF at 0x7f1d417231c0>,\n",
       "  <fooof.objs.fit.FOOOF at 0x7f1d83d8e790>,\n",
       "  <bycycle.objs.fit.Bycycle at 0x7f1d83d8ed30>,\n",
       "  <bycycle.objs.fit.Bycycle at 0x7f1d83d8ef10>]]"
      ]
     },
     "execution_count": 8,
     "metadata": {},
     "output_type": "execute_result"
    }
   ],
   "source": [
    "# Execute workflow\n",
    "wf.run(n_jobs=-1)\n",
    "\n",
    "# Access results\n",
    "wf.results"
   ]
  },
  {
   "cell_type": "markdown",
   "id": "b219b215-1efb-4b13-b813-f938e7bcc225",
   "metadata": {},
   "source": [
    "### Returning Model Attributes\n",
    "\n",
    "The the `return_attrs` arguments is used to transfer any attribute in the model class (here a `FOOOF` and `Bycycle` object) to the `results` attribute of the `WorkFlow` class. This is more memory efficienct as copies of PSDs, time series, and all other model class attributes are not passed to the `results` attribute and are dropped from memory.\n",
    "\n",
    "If `return_attrs` is a string or list of strings, these attribues are expected to exist in each model. A 2d list of `return_attrs` strings provides the greatest flexibility, pairing each list of attributes to each model."
   ]
  },
  {
   "cell_type": "code",
   "execution_count": 9,
   "id": "5785409a-7be3-45b5-89ff-4af6bbd09d18",
   "metadata": {},
   "outputs": [
    {
     "data": {
      "text/plain": [
       "[['peak_params_', 'aperiodic_params_', 'r_squared_'],\n",
       " ['peak_params_', 'aperiodic_params_', 'r_squared_'],\n",
       " ['time_peak', 'time_rdsym', 'monotonicity'],\n",
       " ['time_peak', 'time_rdsym', 'monotonicity']]"
      ]
     },
     "execution_count": 9,
     "metadata": {},
     "output_type": "execute_result"
    }
   ],
   "source": [
    "# Execute workflow\n",
    "return_attrs = [\n",
    "    *[['peak_params_', 'aperiodic_params_', 'r_squared_']] * 2, # FOOOF attributes\n",
    "    *[['time_peak', 'time_rdsym', 'monotonicity']] * 2          # Bycycle attributes\n",
    "]\n",
    "\n",
    "# Define attributes to extract from each model\n",
    "return_attrs"
   ]
  },
  {
   "cell_type": "code",
   "execution_count": 10,
   "id": "e4e1570d-f48a-4ca3-99ea-ada24bc56399",
   "metadata": {},
   "outputs": [
    {
     "name": "stdout",
     "output_type": "stream",
     "text": [
      "dict_keys(['peak_params_', 'aperiodic_params_', 'r_squared_'])\n",
      "dict_keys(['time_peak', 'time_rdsym', 'monotonicity'])\n"
     ]
    }
   ],
   "source": [
    "# Rerun the workflow\n",
    "wf.run(return_attrs=return_attrs)\n",
    "\n",
    "# This first index below reference the zeroth simulation.\n",
    "# The second index reference the model\n",
    "print(wf.results[0][0].keys())\n",
    "print(wf.results[0][2].keys())"
   ]
  }
 ],
 "metadata": {
  "kernelspec": {
   "display_name": "Python 3",
   "language": "python",
   "name": "python3"
  },
  "language_info": {
   "codemirror_mode": {
    "name": "ipython",
    "version": 3
   },
   "file_extension": ".py",
   "mimetype": "text/x-python",
   "name": "python",
   "nbconvert_exporter": "python",
   "pygments_lexer": "ipython3",
   "version": "3.8.10"
  }
 },
 "nbformat": 4,
 "nbformat_minor": 5
}
