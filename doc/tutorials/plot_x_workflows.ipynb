{
 "cells": [
  {
   "cell_type": "code",
   "execution_count": 1,
   "id": "ab6195c1-57b3-4409-a586-4ff8dc48f97d",
   "metadata": {},
   "outputs": [],
   "source": [
    "import numpy as np\n",
    "from tqdm.notebook import tqdm\n",
    "\n",
    "from neurodsp.sim import sim_oscillation, sim_powerlaw\n",
    "from neurodsp.filt import filter_signal\n",
    "from neurodsp.spectral import compute_spectrum\n",
    "\n",
    "from fooof import FOOOF\n",
    "from bycycle import Bycycle\n",
    "\n",
    "from ndspflow.core.workflow import WorkFlow"
   ]
  },
  {
   "cell_type": "markdown",
   "id": "40ee01d5-0478-42df-92c4-d9769c9efb37",
   "metadata": {},
   "source": [
    "# WorkFlow Class\n",
    "\n",
    "`WorkFlow` objects wrap analyses that are typically functionally oriented into a unified object. This allows for reproducible analyses and a clear order of operations, from raw input array to the final output measure. This class consist of three types of nodes:\n",
    "\n",
    "1. __Input__ : Defines the raw input numpy array, including simulations, reading BIDS structure, or custom classes or functions to read in raw binary data.\n",
    "    \n",
    "2. __Transformations__ : Defines the order of preprocessing operations used to manipulate the raw array input. Any function that accepts an y-array, and returns an y-array, with or without an x-array, are support. This allows interfacing of signal processing packages, such as `scipy`, `numpy`, `mne`, `neurodsp`, etc. Examples: filtering, re-referencing, ICA, frequency domain transformations, etc.\n",
    "\n",
    "3. __Models__ : Defines the model class that is used to fit or extract values out of the transformed array. Models should be initialized and contain a `fit` method that accepts array definitions. Examples: `fooof`, `bycycle`.\n",
    "\n",
    "4. __Forks__ : Forks refer to the splitting of the workflow into multiple streams. Forks may optionally have additional transform (e.g. one model may want power spectra, whereas another requires time series). A `fit` method call must follow after every fork."
   ]
  },
  {
   "cell_type": "markdown",
   "id": "7a2521d5-1dac-491d-af2d-56342eaf931e",
   "metadata": {},
   "source": [
    "## Overview\n",
    "\n",
    "Below an entire workflow example is defined and executed. After, we break down each method call in greater detail."
   ]
  },
  {
   "cell_type": "code",
   "execution_count": 2,
   "id": "52daa124-b4f3-4f54-aabc-c431d70c6ac0",
   "metadata": {},
   "outputs": [
    {
     "data": {
      "text/plain": [
       "[[<fooof.objs.fit.FOOOF at 0x7fb34f9e7670>,\n",
       "  <bycycle.objs.fit.Bycycle at 0x7fb34f9e7bb0>],\n",
       " [<fooof.objs.fit.FOOOF at 0x7fb34f9e7970>,\n",
       "  <bycycle.objs.fit.Bycycle at 0x7fb34f9f5190>],\n",
       " [<fooof.objs.fit.FOOOF at 0x7fb34f9e7310>,\n",
       "  <bycycle.objs.fit.Bycycle at 0x7fb34f9f55b0>],\n",
       " [<fooof.objs.fit.FOOOF at 0x7fb34f9e7d00>,\n",
       "  <bycycle.objs.fit.Bycycle at 0x7fb34f9f5790>]]"
      ]
     },
     "execution_count": 2,
     "metadata": {},
     "output_type": "execute_result"
    }
   ],
   "source": [
    "# Settings\n",
    "n_seconds = 10\n",
    "fs = 1000\n",
    "seeds = list(range(4))\n",
    "freq_range = (1, 100)\n",
    "\n",
    "# Initialize\n",
    "wf = WorkFlow(seeds=seeds)\n",
    "\n",
    "# 1. Define np.array input\n",
    "wf.simulate(sim_powerlaw, n_seconds, fs, exponent=-2)\n",
    "wf.simulate(sim_oscillation, n_seconds, fs, freq=10, operator='add')\n",
    "wf.simulate(sim_oscillation, n_seconds, fs, freq=20, operator='add')\n",
    "\n",
    "# 2. Transform input\n",
    "wf.transform(filter_signal, fs, 'lowpass', 100, remove_edges=False)\n",
    "\n",
    "# 3a. Define spectral fit within a fork\n",
    "wf.fork()\n",
    "wf.transform(compute_spectrum, fs)\n",
    "wf.fit(FOOOF(verbose=False), freq_range)\n",
    "\n",
    "# 3b. Define time domain fit within a fork\n",
    "wf.fork()\n",
    "wf.fit(Bycycle(), fs, freq_range)\n",
    "\n",
    "# Execute workflow\n",
    "wf.run(return_attrs=['self', 'aperiodic_params_', 'peak_params_'],\n",
    "       n_jobs=-1, progress=tqdm)\n",
    "\n",
    "# Access results\n",
    "wf.results"
   ]
  },
  {
   "cell_type": "markdown",
   "id": "23eb4f6d-49be-48fb-b811-ec02c41cfd48",
   "metadata": {},
   "source": [
    "## Initialization\n",
    "\n",
    "When initializing a workflow objects, arbitary keyword arguments may be passed that are required by one of the sub-classes. In the case below, we want to set the seeds attributes, required by the `Simulation` sub-class. X-axis values may be optionally defined here, if required by the model."
   ]
  },
  {
   "cell_type": "code",
   "execution_count": 3,
   "id": "97092715-df1c-44c0-a08f-fe2a0eaba4cf",
   "metadata": {},
   "outputs": [],
   "source": [
    "# Initialize\n",
    "wf = WorkFlow(seeds=seeds)"
   ]
  },
  {
   "cell_type": "markdown",
   "id": "790eead6-bc8c-4a61-ac5c-b327100c2330",
   "metadata": {},
   "source": [
    "## 1. Input\n",
    "Next we define the array input. In this cases, is a series of simulations. Multiples simulations calls may be stacked to create the input array. Any simulation function may be used as long as a single array is returned. The way arrays are combined are defined by the `operator` argument. The general form follows: \n",
    "\n",
    "`.simulate(func, *args, operator, **kwargs)`."
   ]
  },
  {
   "cell_type": "code",
   "execution_count": 4,
   "id": "d8a26cd7-4f1e-461e-9d43-5ce010ac06d7",
   "metadata": {},
   "outputs": [],
   "source": [
    "# 2. Define np.array input\n",
    "wf.simulate(sim_powerlaw, n_seconds, fs, exponent=-2)\n",
    "wf.simulate(sim_oscillation, n_seconds, fs, freq=10, operator='add')\n",
    "wf.simulate(sim_oscillation, n_seconds, fs, freq=20, operator='add')"
   ]
  },
  {
   "cell_type": "markdown",
   "id": "14a7861b-f9a7-45ba-8993-ea6373aa8177",
   "metadata": {},
   "source": [
    "## 2. Transform\n",
    "The raw input array may transformed using any function, as long as a single array is returned. The `axis` argument is used for ndarray with greater than two dimensions and specifies which axis to iterate over to apply the transform. The general form follows: \n",
    "\n",
    "`.transform(func, *args, axis, **kwargs)`."
   ]
  },
  {
   "cell_type": "code",
   "execution_count": 5,
   "id": "e52e66f0-f6eb-46d4-9c5c-db1a8ced08b6",
   "metadata": {},
   "outputs": [],
   "source": [
    "# 2. Transform input\n",
    "wf.transform(filter_signal, fs, 'lowpass', 100, remove_edges=False)"
   ]
  },
  {
   "cell_type": "markdown",
   "id": "d673e215-4ab0-427d-a19c-67290e4a9939",
   "metadata": {},
   "source": [
    "## 3. Model\n",
    "The model to be fit is then defined. This should be a class with a `fit` method that accepts a y-array, optionally a x-array if defined during `WorkFlow` initialization, and any args or kwargs required by the model's `fit` method. The workflow forks below continue from the `transform` method call above."
   ]
  },
  {
   "cell_type": "code",
   "execution_count": 6,
   "id": "9dd6b217-ea54-40cf-b1c1-cc888f8642c7",
   "metadata": {},
   "outputs": [],
   "source": [
    "# 3a. Define spectral fit within a fork\n",
    "wf.fork()\n",
    "wf.transform(compute_spectrum, fs)\n",
    "wf.fit(FOOOF(verbose=False), freq_range)"
   ]
  },
  {
   "cell_type": "code",
   "execution_count": 7,
   "id": "831e0c1f-7219-4713-a737-898d1cfb5479",
   "metadata": {},
   "outputs": [],
   "source": [
    "# 3b. Define spectral fit within a fork\n",
    "wf.fork()\n",
    "wf.fit(Bycycle(), fs, freq_range)"
   ]
  },
  {
   "cell_type": "markdown",
   "id": "dfa26b53-d120-4b53-bddf-130510d675aa",
   "metadata": {},
   "source": [
    "## Execute\n",
    "\n",
    "Lastly, the `WorkFlow` is executed in parallel using the `run` method. The the `return_attrs` arguments is used to transfer any attribute in the model class (here a `FOOOF` object), including the model itself, to the `results` attribute of the `WorkFlow` class. Below we return both the model and attributes of the model."
   ]
  },
  {
   "cell_type": "code",
   "execution_count": 8,
   "id": "5530db55-18f6-4504-b0f3-2bd6c6dbc746",
   "metadata": {},
   "outputs": [
    {
     "data": {
      "application/vnd.jupyter.widget-view+json": {
       "model_id": "5a37422d4cd04d5aa04e1810ef4ea5e2",
       "version_major": 2,
       "version_minor": 0
      },
      "text/plain": [
       "Running Workflow:   0%|          | 0/4 [00:00<?, ?it/s]"
      ]
     },
     "metadata": {},
     "output_type": "display_data"
    },
    {
     "data": {
      "text/plain": [
       "[[<fooof.objs.fit.FOOOF at 0x7fb34fa15b80>,\n",
       "  <bycycle.objs.fit.Bycycle at 0x7fb3a4971130>],\n",
       " [<fooof.objs.fit.FOOOF at 0x7fb34fa15a90>,\n",
       "  <bycycle.objs.fit.Bycycle at 0x7fb34fa15c10>],\n",
       " [<fooof.objs.fit.FOOOF at 0x7fb34fa15b50>,\n",
       "  <bycycle.objs.fit.Bycycle at 0x7fb3a4971790>],\n",
       " [<fooof.objs.fit.FOOOF at 0x7fb34fa15700>,\n",
       "  <bycycle.objs.fit.Bycycle at 0x7fb34fa15850>]]"
      ]
     },
     "execution_count": 8,
     "metadata": {},
     "output_type": "execute_result"
    }
   ],
   "source": [
    "# Execute workflow\n",
    "wf.run(return_attrs=['self', 'aperiodic_params_', 'peak_params_'],\n",
    "       n_jobs=-1, progress=tqdm)\n",
    "\n",
    "# Access results\n",
    "wf.results"
   ]
  }
 ],
 "metadata": {
  "kernelspec": {
   "display_name": "Python 3 (ipykernel)",
   "language": "python",
   "name": "python3"
  },
  "language_info": {
   "codemirror_mode": {
    "name": "ipython",
    "version": 3
   },
   "file_extension": ".py",
   "mimetype": "text/x-python",
   "name": "python",
   "nbconvert_exporter": "python",
   "pygments_lexer": "ipython3",
   "version": "3.8.10"
  }
 },
 "nbformat": 4,
 "nbformat_minor": 5
}
