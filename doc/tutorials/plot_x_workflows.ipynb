{
 "cells": [
  {
   "cell_type": "code",
   "execution_count": 1,
   "id": "ab6195c1-57b3-4409-a586-4ff8dc48f97d",
   "metadata": {},
   "outputs": [],
   "source": [
    "import numpy as np\n",
    "from tqdm.notebook import tqdm\n",
    "\n",
    "from neurodsp.sim import sim_oscillation, sim_powerlaw\n",
    "from neurodsp.filt import filter_signal\n",
    "from neurodsp.spectral import compute_spectrum\n",
    "\n",
    "from fooof import FOOOF\n",
    "from bycycle import Bycycle\n",
    "\n",
    "from ndspflow.core.workflow import WorkFlow"
   ]
  },
  {
   "cell_type": "markdown",
   "id": "40ee01d5-0478-42df-92c4-d9769c9efb37",
   "metadata": {},
   "source": [
    "# WorkFlow Class\n",
    "\n",
    "`WorkFlow` objects wrap analyses that are typically functionally oriented into a unified object. This allows for reproducible analyses and a clear order of operations, from raw input array to the final output measure. This class consist of three types of nodes:\n",
    "\n",
    "1. __Input__ : Defines the raw input numpy array, including simulations, reading BIDS structure, or custom classes or functions to read in raw binary data.\n",
    "    \n",
    "2. __Transformations__ : Defines the order of preprocessing operations used to manipulate the raw array input. Any function that accepts an y-array, and returns an y-array, with or without an x-array, are support. This allows interfacing of signal processing packages, such as `scipy`, `numpy`, `mne`, `neurodsp`, etc. Examples: filtering, re-referencing, ICA, frequency domain transformations, etc.\n",
    "\n",
    "3. __Models__ : Defines the model class that is used to fit or extract values out of the transformed array. Models should be initialized and contain a `fit` method that accepts array definitions. Examples: `fooof`, `bycycle`.\n",
    "\n",
    "4. __Forks__ : Forks refer to the splitting of the workflow into multiple streams. Forks may optionally have additional transform (e.g. one model may want power spectra, whereas another requires time series). A `fit` method call must follow after every fork."
   ]
  },
  {
   "cell_type": "markdown",
   "id": "7a2521d5-1dac-491d-af2d-56342eaf931e",
   "metadata": {},
   "source": [
    "## Overview\n",
    "\n",
    "Below a workflow example is defined and executed. After, we break down each method call in greater detail. \n",
    "\n",
    "For now, the `.plot()` method of the `WorkFlow` class plots the graph of the workflow. The `.fork(index)` method is used to split the workflow into sub-flows. The first`.fork(0)` call with a unique index argument creates a save state at the point of the call. Subsequent `.fork(0)` calls restores that state at the time of the inital call before proceding. New `.fork(1)` calls create a new save state that can be later restored."
   ]
  },
  {
   "cell_type": "code",
   "execution_count": 2,
   "id": "2d9844da-6d54-4d09-abfa-f06927a93183",
   "metadata": {},
   "outputs": [
    {
     "data": {
      "image/png": "[encoded data removed]",
      "text/plain": [
       "<Figure size 864x432 with 1 Axes>"
      ]
     },
     "metadata": {},
     "output_type": "display_data"
    }
   ],
   "source": [
    "# Settings\n",
    "n_seconds = 10\n",
    "fs = 1000\n",
    "seeds = list(range(4))\n",
    "freq_range = (1, 100)\n",
    "\n",
    "# Workflow\n",
    "wf = WorkFlow(seeds=seeds)\n",
    "\n",
    "# Simulate\n",
    "wf.simulate(sim_powerlaw, n_seconds, fs, exponent=-2)\n",
    "wf.simulate(sim_oscillation, n_seconds, fs, freq=10, operator='add')\n",
    "wf.simulate(sim_oscillation, n_seconds, fs, freq=20, operator='add')\n",
    "\n",
    "# General filter\n",
    "wf.transform(filter_signal, fs, 'lowpass', 300, remove_edges=False)\n",
    "\n",
    "# Create a fork that references the transform in the previous cell\n",
    "wf.fork(0)\n",
    "\n",
    "# All FOOOF sub-workflows share these transformations\n",
    "wf.transform(filter_signal, fs, 'lowpass', 200, remove_edges=False)\n",
    "wf.transform(compute_spectrum, fs)\n",
    "\n",
    "# FOOOF sub-workflows\n",
    "wf.fork(1)\n",
    "wf.fit(FOOOF(verbose=False, max_n_peaks=2), (1, 100))\n",
    "\n",
    "wf.fork(1)\n",
    "wf.fit(FOOOF(verbose=False, max_n_peaks=2), (1, 200))\n",
    "\n",
    "# Restore that state after the first filter, two code cells above\n",
    "wf.fork(0)\n",
    "\n",
    "# All Bycycle sub-workflows  share these transformations\n",
    "wf.transform(filter_signal, fs, 'lowpass', 100, remove_edges=False)\n",
    "\n",
    "# Bycycle sub-workflows\n",
    "wf.fork(2)\n",
    "wf.fit(Bycycle(), fs, (1, 100))\n",
    "\n",
    "wf.fork(2)\n",
    "wf.fit(Bycycle(), fs, (1, 200))\n",
    "\n",
    "# Plot the workflow\n",
    "wf.plot()\n",
    "\n",
    "# Execute workflow\n",
    "wf.run()"
   ]
  },
  {
   "cell_type": "code",
   "execution_count": 3,
   "id": "433d5110-0293-42c7-8a2e-447b8e131008",
   "metadata": {},
   "outputs": [
    {
     "data": {
      "text/plain": [
       "[[<fooof.objs.fit.FOOOF at 0x7fb7a40cd640>,\n",
       "  <fooof.objs.fit.FOOOF at 0x7fb7a40dc280>,\n",
       "  <bycycle.objs.fit.Bycycle at 0x7fb7a40dc3d0>,\n",
       "  <bycycle.objs.fit.Bycycle at 0x7fb7a40e74f0>],\n",
       " [<fooof.objs.fit.FOOOF at 0x7fb7a40cd460>,\n",
       "  <fooof.objs.fit.FOOOF at 0x7fb7a40cda00>,\n",
       "  <bycycle.objs.fit.Bycycle at 0x7fb7a40dc3a0>,\n",
       "  <bycycle.objs.fit.Bycycle at 0x7fb7a40dcc70>],\n",
       " [<fooof.objs.fit.FOOOF at 0x7fb7a40cd3a0>,\n",
       "  <fooof.objs.fit.FOOOF at 0x7fb7a40cd8e0>,\n",
       "  <bycycle.objs.fit.Bycycle at 0x7fb7a40cdd90>,\n",
       "  <bycycle.objs.fit.Bycycle at 0x7fb7a40dc7f0>],\n",
       " [<fooof.objs.fit.FOOOF at 0x7fb7a40cd6a0>,\n",
       "  <fooof.objs.fit.FOOOF at 0x7fb7a40dc790>,\n",
       "  <bycycle.objs.fit.Bycycle at 0x7fb7a40dc8b0>,\n",
       "  <bycycle.objs.fit.Bycycle at 0x7fb7a40e78b0>]]"
      ]
     },
     "execution_count": 3,
     "metadata": {},
     "output_type": "execute_result"
    }
   ],
   "source": [
    "wf.results"
   ]
  },
  {
   "cell_type": "markdown",
   "id": "23eb4f6d-49be-48fb-b811-ec02c41cfd48",
   "metadata": {},
   "source": [
    "## Initialization\n",
    "\n",
    "When initializing a workflow objects, arbitary keyword arguments may be passed that are required by one of the sub-classes. In the case below, we want to set the seeds attributes, required by the `Simulation` sub-class. X-axis values may be optionally defined here, if required by the model."
   ]
  },
  {
   "cell_type": "code",
   "execution_count": 4,
   "id": "97092715-df1c-44c0-a08f-fe2a0eaba4cf",
   "metadata": {},
   "outputs": [],
   "source": [
    "# Initialize\n",
    "wf = WorkFlow(seeds=seeds)"
   ]
  },
  {
   "cell_type": "markdown",
   "id": "790eead6-bc8c-4a61-ac5c-b327100c2330",
   "metadata": {},
   "source": [
    "## 1. Input\n",
    "Next we define the array input. In this cases, is a series of simulations. Multiples simulations calls may be stacked to create the input array. Any simulation function may be used as long as a single array is returned. The way arrays are combined are defined by the `operator` argument. The general form follows: \n",
    "\n",
    "`.simulate(func, *args, operator, **kwargs)`."
   ]
  },
  {
   "cell_type": "code",
   "execution_count": 5,
   "id": "d8a26cd7-4f1e-461e-9d43-5ce010ac06d7",
   "metadata": {},
   "outputs": [],
   "source": [
    "# 2. Define np.array input\n",
    "wf.simulate(sim_powerlaw, n_seconds, fs, exponent=-2)\n",
    "wf.simulate(sim_oscillation, n_seconds, fs, freq=10, operator='add')\n",
    "wf.simulate(sim_oscillation, n_seconds, fs, freq=20, operator='add')"
   ]
  },
  {
   "cell_type": "markdown",
   "id": "14a7861b-f9a7-45ba-8993-ea6373aa8177",
   "metadata": {},
   "source": [
    "## 2. Transform\n",
    "The raw input array may transformed using any function, as long as a single array is returned. The `axis` argument is used for ndarray with greater than two dimensions and specifies which axis to iterate over to apply the transform. The general form follows: \n",
    "\n",
    "`.transform(func, *args, axis, **kwargs)`."
   ]
  },
  {
   "cell_type": "code",
   "execution_count": 6,
   "id": "e52e66f0-f6eb-46d4-9c5c-db1a8ced08b6",
   "metadata": {},
   "outputs": [],
   "source": [
    "# 2. Transform input\n",
    "wf.transform(filter_signal, fs, 'lowpass', 300, remove_edges=False)"
   ]
  },
  {
   "cell_type": "markdown",
   "id": "d673e215-4ab0-427d-a19c-67290e4a9939",
   "metadata": {},
   "source": [
    "## 3. Model\n",
    "The forkflow is forked, a second filter is applied, the PSD is computed, and the models are fit. Any model may be used as long as it is a class with a `fit` method that accepts a y-array, optionally a x-array if defined during `WorkFlow` initialization, and any args or kwargs required by the model's `fit` method. The workflow forks below continue from the `transform` method call above."
   ]
  },
  {
   "cell_type": "code",
   "execution_count": 7,
   "id": "9dd6b217-ea54-40cf-b1c1-cc888f8642c7",
   "metadata": {},
   "outputs": [],
   "source": [
    "# Create a fork that references the transform in the previous cell\n",
    "wf.fork(0)\n",
    "\n",
    "# All FOOOF sub-workflows share these transformations\n",
    "wf.transform(filter_signal, fs, 'lowpass', 200, remove_edges=False)\n",
    "wf.transform(compute_spectrum, fs)\n",
    "\n",
    "# FOOOF sub-workflows\n",
    "wf.fork(1)\n",
    "wf.fit(FOOOF(verbose=False, max_n_peaks=2), (1, 100))\n",
    "\n",
    "wf.fork(1)\n",
    "wf.fit(FOOOF(verbose=False, max_n_peaks=2), (1, 200))"
   ]
  },
  {
   "cell_type": "code",
   "execution_count": 8,
   "id": "831e0c1f-7219-4713-a737-898d1cfb5479",
   "metadata": {},
   "outputs": [],
   "source": [
    "# Restore that state after the first filter, two code cells above\n",
    "wf.fork(0)\n",
    "\n",
    "# All Bycycle sub-workflows  share these transformations\n",
    "wf.transform(filter_signal, fs, 'lowpass', 100, remove_edges=False)\n",
    "\n",
    "# Bycycle sub-workflows\n",
    "wf.fork(2)\n",
    "wf.fit(Bycycle(), fs, (1, 100))\n",
    "\n",
    "wf.fork(2)\n",
    "wf.fit(Bycycle(), fs, (1, 200))"
   ]
  },
  {
   "cell_type": "code",
   "execution_count": 9,
   "id": "2daede7f-56e5-4f24-bc1f-31c9168c9857",
   "metadata": {},
   "outputs": [
    {
     "data": {
      "image/png": "[encoded data removed]",
      "text/plain": [
       "<Figure size 864x432 with 1 Axes>"
      ]
     },
     "metadata": {},
     "output_type": "display_data"
    }
   ],
   "source": [
    "# Plot the workflow\n",
    "wf.plot()"
   ]
  },
  {
   "cell_type": "markdown",
   "id": "dfa26b53-d120-4b53-bddf-130510d675aa",
   "metadata": {},
   "source": [
    "## Execute\n",
    "\n",
    "Lastly, the `WorkFlow` is executed in parallel using the `run` method. The the `return_attrs` arguments is used to transfer any attribute in the model class (here a `FOOOF` object), including the model itself, to the `results` attribute of the `WorkFlow` class. Below we return both the model and attributes of the model."
   ]
  },
  {
   "cell_type": "code",
   "execution_count": 10,
   "id": "5530db55-18f6-4504-b0f3-2bd6c6dbc746",
   "metadata": {},
   "outputs": [
    {
     "data": {
      "text/plain": [
       "[[<fooof.objs.fit.FOOOF at 0x7fb7e5f58040>,\n",
       "  <fooof.objs.fit.FOOOF at 0x7fb7e5f58a30>,\n",
       "  <bycycle.objs.fit.Bycycle at 0x7fb7e5f58c10>,\n",
       "  <bycycle.objs.fit.Bycycle at 0x7fb7e5ee4250>],\n",
       " [<fooof.objs.fit.FOOOF at 0x7fb7e5f58700>,\n",
       "  <fooof.objs.fit.FOOOF at 0x7fb7e5f58b50>,\n",
       "  <bycycle.objs.fit.Bycycle at 0x7fb7e5f58fa0>,\n",
       "  <bycycle.objs.fit.Bycycle at 0x7fb7e5ee4670>],\n",
       " [<fooof.objs.fit.FOOOF at 0x7fb7e5f584f0>,\n",
       "  <fooof.objs.fit.FOOOF at 0x7fb7e5f58730>,\n",
       "  <bycycle.objs.fit.Bycycle at 0x7fb7e5f58880>,\n",
       "  <bycycle.objs.fit.Bycycle at 0x7fb7e5f58d60>],\n",
       " [<fooof.objs.fit.FOOOF at 0x7fb7e5f58520>,\n",
       "  <fooof.objs.fit.FOOOF at 0x7fb7e5f58b20>,\n",
       "  <bycycle.objs.fit.Bycycle at 0x7fb7e5ee4220>,\n",
       "  <bycycle.objs.fit.Bycycle at 0x7fb7e5ee4a30>]]"
      ]
     },
     "execution_count": 10,
     "metadata": {},
     "output_type": "execute_result"
    }
   ],
   "source": [
    "# Execute workflow\n",
    "wf.run(n_jobs=-1)\n",
    "\n",
    "# Access results\n",
    "wf.results"
   ]
  }
 ],
 "metadata": {
  "kernelspec": {
   "display_name": "Python 3 (ipykernel)",
   "language": "python",
   "name": "python3"
  },
  "language_info": {
   "codemirror_mode": {
    "name": "ipython",
    "version": 3
   },
   "file_extension": ".py",
   "mimetype": "text/x-python",
   "name": "python",
   "nbconvert_exporter": "python",
   "pygments_lexer": "ipython3",
   "version": "3.8.10"
  }
 },
 "nbformat": 4,
 "nbformat_minor": 5
}
