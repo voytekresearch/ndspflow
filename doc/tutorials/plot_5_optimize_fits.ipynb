{
 "cells": [
  {
   "cell_type": "code",
   "execution_count": null,
   "metadata": {},
   "outputs": [],
   "source": [
    "import numpy as np\n",
    "\n",
    "from neurodsp.sim import sim_variable_oscillation, sim_powerlaw\n",
    "from neurodsp.utils.norm import normalize_sig\n",
    "from neurodsp.spectral import compute_spectrum, trim_spectrum\n",
    "from neurodsp.plts import plot_time_series\n",
    "\n",
    "from fooof import FOOOF\n",
    "from fooof.sim.gen import gen_periodic, gen_aperiodic\n",
    "\n",
    "from ndspflow.motif import Motif"
   ]
  },
  {
   "cell_type": "markdown",
   "metadata": {},
   "source": [
    "### Simulate Oscillations\n",
    "\n",
    "Asymmetrical sine waves are with rise-decay symmetries of .25, .5, and .75, each at a different frequency (8, 10, or 12 hz), are simulated below.\n",
    "\n",
    "The resulting oscillations are then combined with a powerlaw signal, to produce a 1/f slope in frequency space."
   ]
  },
  {
   "cell_type": "code",
   "execution_count": null,
   "metadata": {},
   "outputs": [],
   "source": [
    "# Simulate different rdsyms at 8, 10, and 12 hz\n",
    "fs = 1000\n",
    "\n",
    "sig_osc = sim_variable_oscillation(None, fs, freqs=np.repeat([8, 10, 12], 50), cycle='asine',\n",
    "                                   rdsym=np.repeat([.25, .5, .75], 50))\n",
    "\n",
    "sig_pl = sim_powerlaw(1, len(sig_osc), exponent=-2)\n",
    "\n",
    "sig = normalize_sig(((.8 * sig_osc) + (1 * sig_pl)), mean=0, variance=1)\n",
    "\n",
    "# Plot\n",
    "times = np.arange(0, len(sig)/fs, 1/fs)\n",
    "plot_time_series(times, sig)"
   ]
  },
  {
   "cell_type": "markdown",
   "metadata": {},
   "source": [
    "### SpecParam\n",
    "Next, the spectrum of the simulated timeseries is taken. The spectrum is then parameterized, using default, liberal settings. Later these settings will be updated base on a waveform shape analysis."
   ]
  },
  {
   "cell_type": "code",
   "execution_count": null,
   "metadata": {},
   "outputs": [],
   "source": [
    "# Get spectrum\n",
    "freqs, powers = compute_spectrum(sig, fs, f_range=(0, 100))\n",
    "freqs, powers = trim_spectrum(freqs, powers, (1, 100))\n",
    "# SpecParam\n",
    "fm = FOOOF()\n",
    "\n",
    "fm.fit(freqs, powers, freq_range=(1, 100))\n",
    "\n",
    "fm.plot(plot_peaks='shade')"
   ]
  },
  {
   "cell_type": "markdown",
   "metadata": {},
   "source": [
    "### Motif\n",
    "\n",
    "Waveform motifs are found. The three asymmetrical waves are identified in a single ~10hz oscillation peak, waveforms are untangled via k-means clustering.\n",
    "\n",
    "Next, the additional peaks (harmonics due to asymmetry), will be removed from the spectrum. This will allows finer tuning of the oscillatory spectral peaks, while preserving an accuracte estimate of the 1/f slope."
   ]
  },
  {
   "cell_type": "code",
   "execution_count": null,
   "metadata": {},
   "outputs": [],
   "source": [
    "motif = Motif(min_clust_score=0.1)\n",
    "motif.fit(fm, sig, fs)\n",
    "motif.plot(plot_fm_kwargs={'log_freqs': True})"
   ]
  },
  {
   "cell_type": "markdown",
   "metadata": {},
   "source": [
    "### Clean Spectrum\n",
    "The harmonics in original spectrum will now be removed."
   ]
  },
  {
   "cell_type": "code",
   "execution_count": null,
   "metadata": {},
   "outputs": [],
   "source": [
    "# Determine which peaks have associated waveforms\n",
    "rm_idxs = np.array([np.isnan(m.sigs).any() for m in motif.results])\n",
    "\n",
    "# Powers in loglog\n",
    "power_spectrum = fm.power_spectrum\n",
    "\n",
    "# Remove the aperiodic fit\n",
    "ap_fit = gen_aperiodic(fm.freqs, fm.aperiodic_params_)\n",
    "\n",
    "powers_clean = power_spectrum.copy()\n",
    "powers_clean -= ap_fit\n",
    "\n",
    "for idx, peak in enumerate(fm.gaussian_params_[rm_idxs]):\n",
    "    powers_clean -= gen_periodic(fm.freqs, peak)\n",
    "\n",
    "powers_clean += ap_fit\n",
    "\n",
    "powers_clean = 10 ** powers_clean"
   ]
  },
  {
   "cell_type": "markdown",
   "metadata": {},
   "source": [
    "### Fit Distinct Oscillations\n",
    "\n",
    "Three oscillations exists at 8, 10, and 12 hz. We will now use the cleaned spectrum and update specparam settings to fit the three oscillations separately.\n",
    "\n",
    "Is there a way to automatically find these parameters (i.e. ml + gridsearch)?"
   ]
  },
  {
   "cell_type": "code",
   "execution_count": null,
   "metadata": {},
   "outputs": [],
   "source": [
    "cf, bw, _ = fm.get_params('peak_params')[~rm_idxs][0]\n",
    "\n",
    "fm_clean = FOOOF(peak_width_limits=(0, 1.6), min_peak_height=1)\n",
    "\n",
    "fm_clean.fit(freqs, powers_clean, freq_range=(1, 100))\n",
    "\n",
    "fm_clean.plot(plot_peaks='shade')"
   ]
  }
 ],
 "metadata": {
  "kernelspec": {
   "display_name": "Python 3",
   "language": "python",
   "name": "python3"
  },
  "language_info": {
   "codemirror_mode": {
    "name": "ipython",
    "version": 3
   },
   "file_extension": ".py",
   "mimetype": "text/x-python",
   "name": "python",
   "nbconvert_exporter": "python",
   "pygments_lexer": "ipython3",
   "version": "3.8.10"
  }
 },
 "nbformat": 4,
 "nbformat_minor": 4
}
