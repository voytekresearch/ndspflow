{
 "cells": [
  {
   "cell_type": "markdown",
   "metadata": {},
   "source": [
    "# 5. Fit Optimization\n",
    "\n",
    "In this tutorial, waveform motifs will be used to optimze spectral parametrization."
   ]
  },
  {
   "cell_type": "code",
   "execution_count": null,
   "metadata": {},
   "outputs": [],
   "source": [
    "from itertools import combinations\n",
    "import numpy as np\n",
    "from scipy.stats import ttest_ind\n",
    "import matplotlib.pyplot as plt\n",
    "\n",
    "from neurodsp.sim import sim_variable_oscillation, sim_powerlaw\n",
    "from neurodsp.utils.norm import normalize_sig\n",
    "from neurodsp.spectral import compute_spectrum, trim_spectrum\n",
    "from neurodsp.plts import plot_time_series\n",
    "\n",
    "from fooof import FOOOF\n",
    "from fooof.sim.gen import gen_periodic\n",
    "\n",
    "from ndspflow.motif import Motif"
   ]
  },
  {
   "cell_type": "markdown",
   "metadata": {},
   "source": [
    "### Simulate Oscillations\n",
    "\n",
    "Asymmetrical sine waves are with rise-decay symmetries of .25, .5, and .75, each at a different frequency (8, 10, or 12 hz), are simulated below.\n",
    "\n",
    "The resulting oscillations are then combined with a powerlaw signal, to produce a 1/f slope in frequency space."
   ]
  },
  {
   "cell_type": "code",
   "execution_count": null,
   "metadata": {},
   "outputs": [],
   "source": [
    "# Simulate different rdsyms at 8, 10, and 12 hz\n",
    "fs = 1000\n",
    "\n",
    "sig_osc = sim_variable_oscillation(None, fs, freqs=np.repeat([8, 10, 12], 50), cycle='asine',\n",
    "                                   rdsym=np.repeat([.25, .5, .75], 50))\n",
    "\n",
    "sig_pl = sim_powerlaw(1, len(sig_osc), exponent=-2)\n",
    "\n",
    "sig = normalize_sig(((.8 * sig_osc) + (1 * sig_pl)), mean=0, variance=1)\n",
    "\n",
    "# Plot\n",
    "times = np.arange(0, len(sig)/fs, 1/fs)\n",
    "plot_time_series(times, sig)"
   ]
  },
  {
   "cell_type": "markdown",
   "metadata": {},
   "source": [
    "### SpecParam\n",
    "Next, the spectrum of the simulated timeseries is taken. The spectrum is then parameterized, using default, liberal settings. Later these settings will be updated base on a waveform shape analysis."
   ]
  },
  {
   "cell_type": "code",
   "execution_count": null,
   "metadata": {},
   "outputs": [],
   "source": [
    "# Get spectrum\n",
    "freqs, powers = compute_spectrum(sig, fs, f_range=(0, 100))\n",
    "freqs, powers = trim_spectrum(freqs, powers, (1, 100))\n",
    "\n",
    "# SpecParam\n",
    "fm = FOOOF()\n",
    "\n",
    "fm.fit(freqs, powers, freq_range=(1, 100))\n",
    "\n",
    "fm.plot(plot_peaks='shade')"
   ]
  },
  {
   "cell_type": "markdown",
   "metadata": {},
   "source": [
    "### Motifs\n",
    "\n",
    "Waveform motifs are found. The three asymmetrical waves are identified in a single ~10hz oscillation peak, waveforms are untangled via k-means clustering.\n",
    "\n",
    "Then, the additional peaks (i.e. harmonics due to asymmetry), will be ignored. This will allows finer tuning of detected oscillatory spectral peaks."
   ]
  },
  {
   "cell_type": "code",
   "execution_count": null,
   "metadata": {},
   "outputs": [],
   "source": [
    "motif = Motif(min_clust_score=0.1)\n",
    "motif.fit(fm, sig, fs)\n",
    "motif.plot()"
   ]
  },
  {
   "cell_type": "code",
   "execution_count": null,
   "metadata": {},
   "outputs": [],
   "source": [
    "f_ranges = [results.f_range for results in motif.results if isinstance(results.f_range, tuple)]\n",
    "\n",
    "# Remove peaks with no associated cycles\n",
    "keep_peaks = []\n",
    "\n",
    "for idx, cf in enumerate(fm.peak_params_[:, 0]):\n",
    "    for f_range in f_ranges:\n",
    "        if cf >= f_range[0] and cf <= f_range[1]:\n",
    "            keep_peaks.append(idx)\n",
    "            \n",
    "fm.peak_params_ = fm.peak_params_[keep_peaks]\n",
    "fm.gaussian_params_ = fm.gaussian_params_[keep_peaks]\n",
    "\n",
    "# Regenerate fits\n",
    "fm._peak_fit = gen_periodic(fm.freqs, np.ndarray.flatten(fm.gaussian_params_))\n",
    "fm.fooofed_spectrum_ = fm._peak_fit + fm._ap_fit\n",
    "\n",
    "# Plot\n",
    "fm.plot(plot_peaks='shade')"
   ]
  },
  {
   "cell_type": "markdown",
   "metadata": {},
   "source": [
    "### Separate Oscillations in the Frequency Domain\n",
    "\n",
    "Three oscillations exists at 8, 10, and 12 hz. We will now use run a grid search on a range of parameters, and show how two different optimization metrics may vary results."
   ]
  },
  {
   "cell_type": "code",
   "execution_count": null,
   "metadata": {},
   "outputs": [],
   "source": [
    "n_motifs = np.max(motif.results[0].labels) + 1\n",
    "\n",
    "# Sort periods by motif cluster membership\n",
    "periods = []\n",
    "for motif_idx in range(n_motifs):\n",
    "    row_idxs = np.where(motif.results[0].labels == motif_idx)[0]\n",
    "    periods.append(motif.results[0].df_features.iloc[row_idxs]['period'])\n",
    "    \n",
    "# Determine significants differences between motifs center frequencies\n",
    "#   using pariwise t-tests\n",
    "cfs_exp = []\n",
    "for pair in list(combinations(range(n_motifs), 2)):\n",
    "    pair_a = fs / periods[pair[0]]\n",
    "    pair_b = fs / periods[pair[1]]\n",
    "    if ttest_ind(pair_a, pair_b).pvalue < .05:\n",
    "        cfs_exp.append(pair_a.mean())\n",
    "        cfs_exp.append(pair_b.mean())  \n",
    "        \n",
    "cfs_exp = np.unique(cfs_exp)"
   ]
  },
  {
   "cell_type": "code",
   "execution_count": null,
   "metadata": {
    "scrolled": true
   },
   "outputs": [],
   "source": [
    "import warnings\n",
    "warnings.filterwarnings(\"ignore\")\n",
    "\n",
    "# Determine frequency range\n",
    "cf_orig = fm.get_params('peak', 'CF')\n",
    "bw_orig = fm.get_params('peak', 'BW')\n",
    "\n",
    "freq_range = (cf_orig - bw_orig, cf_orig + bw_orig)\n",
    "\n",
    "# Determine bandwidth grid\n",
    "n_steps = 100\n",
    "\n",
    "upper_bounds = np.linspace(1, bw_orig, n_steps+1)[1:]\n",
    "\n",
    "results = np.zeros((len(upper_bounds), 3))\n",
    "\n",
    "fm_re = []\n",
    "\n",
    "# Run grid search\n",
    "for idx, upper in enumerate(upper_bounds):\n",
    "    \n",
    "    results[idx][0] = idx\n",
    "    \n",
    "    _fm = FOOOF(peak_width_limits=(1, upper), verbose=False)\n",
    "\n",
    "    _fm.fit(freqs, powers, freq_range=freq_range)\n",
    "    \n",
    "    cfs = _fm.get_params('peak', 'CF')\n",
    "    \n",
    "    if len(_fm.get_params('peak')) != len(cfs_exp):\n",
    "        results[idx][1] = np.nan\n",
    "        results[idx][2] = np.nan\n",
    "    else:\n",
    "        mae = np.abs(cfs_exp-cfs).mean()\n",
    "        results[idx][1] = mae\n",
    "        results[idx][2] = _fm.r_squared_\n",
    "        \n",
    "    fm_re.append(_fm)\n",
    "    \n",
    "# Remove nans (i.e. fits with incorrect number of peaks)\n",
    "results = np.delete(results, np.isnan(results[:, 1]), axis=0)"
   ]
  },
  {
   "cell_type": "code",
   "execution_count": null,
   "metadata": {},
   "outputs": [],
   "source": [
    "highest_rsq = int(results[np.argmin(results[:, 2])][0])\n",
    "\n",
    "fm_rsq = fm_re[np.argmax(results[:, 2])]\n",
    "fm_rsq.plot(plot_peaks='shade')\n",
    "\n",
    "plt.title('R^2 Optimized', size=20)\n",
    "plt.show()"
   ]
  },
  {
   "cell_type": "code",
   "execution_count": null,
   "metadata": {},
   "outputs": [],
   "source": [
    "lowest_mae = int(results[np.argmin(results[:, 1])][0])\n",
    "\n",
    "fm_mae = fm_re[lowest_mae]\n",
    "fm_mae.plot(plot_peaks='shade')\n",
    "\n",
    "plt.title('CF MAE Optimized', size=20)\n",
    "plt.show()"
   ]
  }
 ],
 "metadata": {
  "kernelspec": {
   "display_name": "Python 3",
   "language": "python",
   "name": "python3"
  },
  "language_info": {
   "codemirror_mode": {
    "name": "ipython",
    "version": 3
   },
   "file_extension": ".py",
   "mimetype": "text/x-python",
   "name": "python",
   "nbconvert_exporter": "python",
   "pygments_lexer": "ipython3",
   "version": "3.8.10"
  }
 },
 "nbformat": 4,
 "nbformat_minor": 4
}
